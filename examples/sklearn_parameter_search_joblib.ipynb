{
 "cells": [
  {
   "cell_type": "markdown",
   "metadata": {},
   "source": [
    "## Connection to a 'distributed' cluster via the Executor API"
   ]
  },
  {
   "cell_type": "code",
   "execution_count": null,
   "metadata": {
    "collapsed": false
   },
   "outputs": [],
   "source": [
    "from distributed import Executor, progress\n",
    "from time import sleep"
   ]
  },
  {
   "cell_type": "code",
   "execution_count": 24,
   "metadata": {
    "collapsed": false
   },
   "outputs": [
    {
     "name": "stdout",
     "output_type": "stream",
     "text": [
      "<Executor: scheduler=dscheduler:8786 workers=2 threads=24>\n"
     ]
    }
   ],
   "source": [
    "e = Executor('dscheduler:8786')\n",
    "print(e)"
   ]
  },
  {
   "cell_type": "code",
   "execution_count": 26,
   "metadata": {
    "collapsed": false
   },
   "outputs": [],
   "source": [
    "sleep_times = [0.1] * 1000\n",
    "futures = e.map(sleep, sleep_times, pure=False)\n",
    "progress(futures)"
   ]
  },
  {
   "cell_type": "markdown",
   "metadata": {},
   "source": [
    "## Installing Python packages on the cluster"
   ]
  },
  {
   "cell_type": "code",
   "execution_count": 4,
   "metadata": {
    "collapsed": true
   },
   "outputs": [],
   "source": [
    "import subprocess\n",
    "\n",
    "\n",
    "def install_libs():\n",
    "    libs = 'scikit-learn pandas matplotlib'.split()\n",
    "    subprocess.check_call('conda install -yq'.split() + libs)\n",
    "    subprocess.check_call('pip install git+https://github.com/joblib/joblib'.split())"
   ]
  },
  {
   "cell_type": "code",
   "execution_count": 5,
   "metadata": {
    "collapsed": false
   },
   "outputs": [
    {
     "data": {
      "text/plain": [
       "{'10.0.0.3:56625': None, '10.0.0.4:48930': None}"
      ]
     },
     "execution_count": 5,
     "metadata": {},
     "output_type": "execute_result"
    }
   ],
   "source": [
    "install_libs()\n",
    "e.run(install_libs)\n",
    "# e.restart()"
   ]
  },
  {
   "cell_type": "code",
   "execution_count": 6,
   "metadata": {
    "collapsed": false
   },
   "outputs": [
    {
     "name": "stdout",
     "output_type": "stream",
     "text": [
      "Monkeypatching scikit-learn embedded joblib\n"
     ]
    }
   ],
   "source": [
    "# Force the use of the development branch of joblib in scikit-learn\n",
    "# won't be necessary once scikit-learn will get in sync with joblib\n",
    "# 0.10+\n",
    "import joblib\n",
    "from sklearn.externals import joblib as skl_joblib\n",
    "print('Monkeypatching scikit-learn embedded joblib')\n",
    "for k, v in vars(joblib).items():\n",
    "   setattr(skl_joblib, k, v)"
   ]
  },
  {
   "cell_type": "markdown",
   "metadata": {},
   "source": [
    "## Parameter search for machine learning"
   ]
  },
  {
   "cell_type": "code",
   "execution_count": 7,
   "metadata": {
    "collapsed": false
   },
   "outputs": [],
   "source": [
    "from sklearn.datasets import load_digits\n",
    "from sklearn.grid_search import RandomizedSearchCV\n",
    "from sklearn.svm import SVC\n",
    "import numpy as np\n",
    "from pprint import pprint\n",
    "\n",
    "digits = load_digits()\n",
    "model = SVC(kernel='rbf')\n",
    "\n",
    "\n",
    "param_space = {\n",
    "    'C': np.logspace(-6, 6, 13),\n",
    "    'gamma': np.logspace(-8, 8, 17),\n",
    "    'tol': np.logspace(-4, -1, 4),\n",
    "    'class_weight': [None, 'balanced'],\n",
    "}"
   ]
  },
  {
   "cell_type": "markdown",
   "metadata": {},
   "source": [
    "## Running one iteration on a single machine "
   ]
  },
  {
   "cell_type": "code",
   "execution_count": 18,
   "metadata": {
    "collapsed": false
   },
   "outputs": [
    {
     "name": "stdout",
     "output_type": "stream",
     "text": [
      "Best parameter score: 0.100\n",
      "{'C': 0.001, 'class_weight': 'balanced', 'gamma': 100.0, 'tol': 0.0001}\n",
      "CPU times: user 4.08 s, sys: 2 ms, total: 4.08 s\n",
      "Wall time: 4.07 s\n"
     ]
    }
   ],
   "source": [
    "%%time\n",
    "search = RandomizedSearchCV(model, param_space, cv=3, n_iter=1)\n",
    "search.fit(digits.data, digits.target)\n",
    "\n",
    "print(\"Best parameter score: %0.3f\" % search.best_score_)\n",
    "pprint(search.best_params_)"
   ]
  },
  {
   "cell_type": "markdown",
   "metadata": {},
   "source": [
    "## Running the parameter search on the cluster"
   ]
  },
  {
   "cell_type": "code",
   "execution_count": 9,
   "metadata": {
    "collapsed": true
   },
   "outputs": [],
   "source": [
    "from distributed_joblib_backend import DistributedBackend\n",
    "from joblib.parallel import register_parallel_backend, parallel_backend\n",
    "\n",
    "register_parallel_backend('distributed', DistributedBackend)"
   ]
  },
  {
   "cell_type": "code",
   "execution_count": 15,
   "metadata": {
    "collapsed": false
   },
   "outputs": [
    {
     "name": "stdout",
     "output_type": "stream",
     "text": [
      "Fitting 3 folds for each of 30 candidates, totalling 90 fits\n"
     ]
    },
    {
     "name": "stderr",
     "output_type": "stream",
     "text": [
      "[Parallel(n_jobs=-1)]: Done   2 tasks      | elapsed:    1.8s\n",
      "[Parallel(n_jobs=-1)]: Done  13 tasks      | elapsed:    4.4s\n",
      "[Parallel(n_jobs=-1)]: Done  24 tasks      | elapsed:    5.5s\n",
      "[Parallel(n_jobs=-1)]: Done  37 tasks      | elapsed:    7.1s\n",
      "[Parallel(n_jobs=-1)]: Done  90 out of  90 | elapsed:   13.2s finished\n"
     ]
    }
   ],
   "source": [
    "with parallel_backend('distributed', scheduler_host='dscheduler:8786'):\n",
    "    search = RandomizedSearchCV(model, param_space, cv=3, n_iter=30, verbose=10)\n",
    "    search.fit(digits.data, digits.target)"
   ]
  },
  {
   "cell_type": "code",
   "execution_count": 16,
   "metadata": {
    "collapsed": false
   },
   "outputs": [
    {
     "name": "stdout",
     "output_type": "stream",
     "text": [
      "Best parameter score: 0.976\n",
      "{'C': 10.0, 'class_weight': 'balanced', 'gamma': 0.001, 'tol': 0.01}\n"
     ]
    }
   ],
   "source": [
    "print(\"Best parameter score: %0.3f\" % search.best_score_)\n",
    "pprint(search.best_params_)"
   ]
  },
  {
   "cell_type": "code",
   "execution_count": null,
   "metadata": {
    "collapsed": true
   },
   "outputs": [],
   "source": []
  }
 ],
 "metadata": {
  "kernelspec": {
   "display_name": "Python 3",
   "language": "python",
   "name": "python3"
  },
  "language_info": {
   "codemirror_mode": {
    "name": "ipython",
    "version": 3
   },
   "file_extension": ".py",
   "mimetype": "text/x-python",
   "name": "python",
   "nbconvert_exporter": "python",
   "pygments_lexer": "ipython3",
   "version": "3.5.1"
  }
 },
 "nbformat": 4,
 "nbformat_minor": 0
}
