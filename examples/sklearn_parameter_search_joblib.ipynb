{
 "cells": [
  {
   "cell_type": "code",
   "execution_count": 9,
   "metadata": {
    "collapsed": false
   },
   "outputs": [],
   "source": [
    "from distributed import Executor, progress"
   ]
  },
  {
   "cell_type": "code",
   "execution_count": 10,
   "metadata": {
    "collapsed": true
   },
   "outputs": [],
   "source": [
    "e = Executor('dscheduler:8786')"
   ]
  },
  {
   "cell_type": "code",
   "execution_count": 12,
   "metadata": {
    "collapsed": true
   },
   "outputs": [],
   "source": [
    "import subprocess\n",
    "\n",
    "\n",
    "def install_libs():\n",
    "    libs = 'scikit-learn pandas matplotlib'.split()\n",
    "    subprocess.check_call('conda install -yq'.split() + libs)\n",
    "    subprocess.check_call('pip install git+https://github.com/joblib/joblib'.split())"
   ]
  },
  {
   "cell_type": "code",
   "execution_count": 15,
   "metadata": {
    "collapsed": false
   },
   "outputs": [
    {
     "data": {
      "text/plain": [
       "<Executor: scheduler=10.0.0.2:8786 workers=1 threads=12>"
      ]
     },
     "execution_count": 15,
     "metadata": {},
     "output_type": "execute_result"
    }
   ],
   "source": [
    "install_libs()\n",
    "e.run(install_libs)\n",
    "e.restart()"
   ]
  },
  {
   "cell_type": "code",
   "execution_count": 14,
   "metadata": {
    "collapsed": false
   },
   "outputs": [
    {
     "name": "stdout",
     "output_type": "stream",
     "text": [
      "Monkeypatching scikit-learn embedded joblib\n"
     ]
    }
   ],
   "source": [
    "# Force the use of the development branch of joblib in scikit-learn\n",
    "# won't be necessary once scikit-learn will get in sync with joblib\n",
    "# 0.10+\n",
    "import joblib\n",
    "from sklearn.externals import joblib as skl_joblib\n",
    "print('Monkeypatching scikit-learn embedded joblib')\n",
    "for k, v in vars(joblib).items():\n",
    "   setattr(skl_joblib, k, v)"
   ]
  },
  {
   "cell_type": "code",
   "execution_count": 18,
   "metadata": {
    "collapsed": true
   },
   "outputs": [],
   "source": [
    "from distributed_joblib_backend import DistributedBackend\n",
    "from joblib.parallel import register_parallel_backend, parallel_backend\n",
    "from joblib import Parallel, delayed\n",
    "\n",
    "register_parallel_backend('distributed', DistributedBackend)"
   ]
  },
  {
   "cell_type": "code",
   "execution_count": 32,
   "metadata": {
    "collapsed": false
   },
   "outputs": [],
   "source": [
    "from sklearn.datasets import load_digits\n",
    "from sklearn.grid_search import RandomizedSearchCV\n",
    "from sklearn.svm import SVC\n",
    "import numpy as np\n",
    "\n",
    "digits = load_digits()\n",
    "\n",
    "param_space = {\n",
    "    'C': np.logspace(-6, 6, 13),\n",
    "    'gamma': np.logspace(-8, 8, 17),\n",
    "    'tol': np.logspace(-4, -1, 4),\n",
    "    'class_weight': [None, 'balanced'],\n",
    "}\n",
    "\n",
    "model = SVC(kernel='rbf')\n",
    "search = RandomizedSearchCV(model, param_space, cv=3, n_iter=50, verbose=10)"
   ]
  },
  {
   "cell_type": "code",
   "execution_count": 33,
   "metadata": {
    "collapsed": false
   },
   "outputs": [
    {
     "name": "stdout",
     "output_type": "stream",
     "text": [
      "Fitting 3 folds for each of 50 candidates, totalling 150 fits\n"
     ]
    },
    {
     "name": "stderr",
     "output_type": "stream",
     "text": [
      "[Parallel(n_jobs=-1)]: Done   1 tasks      | elapsed:    1.7s\n",
      "[Parallel(n_jobs=-1)]: Done   8 tasks      | elapsed:    2.3s\n",
      "[Parallel(n_jobs=-1)]: Done  17 tasks      | elapsed:    4.0s\n",
      "[Parallel(n_jobs=-1)]: Done  26 tasks      | elapsed:    5.5s\n",
      "[Parallel(n_jobs=-1)]: Done  37 tasks      | elapsed:    6.5s\n",
      "[Parallel(n_jobs=-1)]: Done  48 tasks      | elapsed:    8.2s\n",
      "[Parallel(n_jobs=-1)]: Done  61 tasks      | elapsed:   10.5s\n",
      "[Parallel(n_jobs=-1)]: Done  74 tasks      | elapsed:   12.8s\n",
      "[Parallel(n_jobs=-1)]: Done  89 tasks      | elapsed:   15.4s\n",
      "[Parallel(n_jobs=-1)]: Done 104 tasks      | elapsed:   18.0s\n",
      "[Parallel(n_jobs=-1)]: Done 121 tasks      | elapsed:   20.0s\n",
      "[Parallel(n_jobs=-1)]: Done 150 out of 150 | elapsed:   24.0s finished\n"
     ]
    },
    {
     "data": {
      "text/plain": [
       "({'C': 1.0,\n",
       "  'class_weight': 'balanced',\n",
       "  'gamma': 0.001,\n",
       "  'tol': 0.10000000000000001},\n",
       " 0.97440178074568728)"
      ]
     },
     "execution_count": 33,
     "metadata": {},
     "output_type": "execute_result"
    }
   ],
   "source": [
    "with parallel_backend('distributed', scheduler_host='dscheduler:8786'):\n",
    "    search.fit(digits.data, digits.target)\n",
    "\n",
    "search.best_params_, search.best_score_"
   ]
  },
  {
   "cell_type": "code",
   "execution_count": null,
   "metadata": {
    "collapsed": true
   },
   "outputs": [],
   "source": []
  }
 ],
 "metadata": {
  "kernelspec": {
   "display_name": "Python 3",
   "language": "python",
   "name": "python3"
  },
  "language_info": {
   "codemirror_mode": {
    "name": "ipython",
    "version": 3
   },
   "file_extension": ".py",
   "mimetype": "text/x-python",
   "name": "python",
   "nbconvert_exporter": "python",
   "pygments_lexer": "ipython3",
   "version": "3.5.1"
  }
 },
 "nbformat": 4,
 "nbformat_minor": 0
}
