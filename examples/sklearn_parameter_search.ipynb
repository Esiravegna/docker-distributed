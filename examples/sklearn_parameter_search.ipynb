{
 "cells": [
  {
   "cell_type": "code",
   "execution_count": 1,
   "metadata": {
    "collapsed": true
   },
   "outputs": [],
   "source": [
    "from distributed import Executor, progress"
   ]
  },
  {
   "cell_type": "code",
   "execution_count": 2,
   "metadata": {
    "collapsed": false
   },
   "outputs": [],
   "source": [
    "e = Executor('dscheduler:8786')"
   ]
  },
  {
   "cell_type": "code",
   "execution_count": 3,
   "metadata": {
    "collapsed": false
   },
   "outputs": [
    {
     "data": {
      "text/plain": [
       "<Executor: scheduler=dscheduler:8786 processes=3 cores=96>"
      ]
     },
     "execution_count": 3,
     "metadata": {},
     "output_type": "execute_result"
    }
   ],
   "source": [
    "e.restart()"
   ]
  },
  {
   "cell_type": "code",
   "execution_count": 5,
   "metadata": {
    "collapsed": false
   },
   "outputs": [
    {
     "data": {
      "text/plain": [
       "0"
      ]
     },
     "execution_count": 5,
     "metadata": {},
     "output_type": "execute_result"
    }
   ],
   "source": [
    "import subprocess\n",
    "\n",
    "\n",
    "def install_libs():\n",
    "    libs = 'scikit-learn joblib pandas matplotlib'.split()\n",
    "    return subprocess.check_call('conda install -yq'.split() + libs)\n",
    "\n",
    "install_libs()"
   ]
  },
  {
   "cell_type": "code",
   "execution_count": 6,
   "metadata": {
    "collapsed": false
   },
   "outputs": [
    {
     "data": {
      "text/plain": [
       "{'10.112.0.6:50032': 0, '10.112.1.3:47119': 0, '10.112.2.6:37968': 0}"
      ]
     },
     "execution_count": 6,
     "metadata": {},
     "output_type": "execute_result"
    }
   ],
   "source": [
    "e.run(install_libs)"
   ]
  },
  {
   "cell_type": "code",
   "execution_count": 8,
   "metadata": {
    "collapsed": false
   },
   "outputs": [
    {
     "data": {
      "text/plain": [
       "96"
      ]
     },
     "execution_count": 8,
     "metadata": {},
     "output_type": "execute_result"
    }
   ],
   "source": [
    "n_cores = sum(e.ncores().values())\n",
    "n_cores"
   ]
  },
  {
   "cell_type": "code",
   "execution_count": 9,
   "metadata": {
    "collapsed": false
   },
   "outputs": [],
   "source": [
    "from time import sleep\n",
    "futures = e.map(sleep, [0.1] * (n_cores * 100), pure=False)\n",
    "progress(futures)"
   ]
  },
  {
   "cell_type": "code",
   "execution_count": 15,
   "metadata": {
    "collapsed": true
   },
   "outputs": [],
   "source": [
    "from sklearn.datasets import load_digits\n",
    "from sklearn.cross_validation import train_test_split"
   ]
  },
  {
   "cell_type": "code",
   "execution_count": 16,
   "metadata": {
    "collapsed": false
   },
   "outputs": [],
   "source": [
    "def load_cv_split(split_idx):\n",
    "    data = load_digits()\n",
    "    splitted = train_test_split(data.data, data.target,\n",
    "                                test_size=0.20,\n",
    "                                random_state=split_idx)\n",
    "    return split_idx, splitted"
   ]
  },
  {
   "cell_type": "code",
   "execution_count": 19,
   "metadata": {
    "collapsed": true
   },
   "outputs": [],
   "source": [
    "cv_splits = e.scatter([load_cv_split(i) for i in range(3)],\n",
    "                      broadcast=True)"
   ]
  },
  {
   "cell_type": "code",
   "execution_count": 20,
   "metadata": {
    "collapsed": false
   },
   "outputs": [
    {
     "data": {
      "text/plain": [
       "[<Future: status: finished, key: 81c5b12b631fd1a707c92bba905da1bd>,\n",
       " <Future: status: finished, key: c4a211ca3ae298909c78bde726f3109b>,\n",
       " <Future: status: finished, key: c9787180397815b66c284d1b25f44589>]"
      ]
     },
     "execution_count": 20,
     "metadata": {},
     "output_type": "execute_result"
    }
   ],
   "source": [
    "cv_splits"
   ]
  },
  {
   "cell_type": "code",
   "execution_count": 21,
   "metadata": {
    "collapsed": false
   },
   "outputs": [],
   "source": [
    "from joblib import hash, Memory\n",
    "from time import time\n",
    "\n",
    "\n",
    "def evaluate_one(model_class, cv_split, parameters):\n",
    "    split_idx, (X_train, X_val, y_train, y_val) = cv_split\n",
    "    t0 = time()\n",
    "    model = model_class(**parameters).fit(X_train, y_train)\n",
    "    training_time = time() - t0\n",
    "\n",
    "    train_score = model.score(X_train, y_train)\n",
    "    validation_score = model.score(X_val, y_val)\n",
    "    \n",
    "    results = {\n",
    "        'split_idx': split_idx,\n",
    "        'training_time': training_time,\n",
    "        'train_score': train_score,\n",
    "        'validation_score': validation_score,\n",
    "        'parameters_hash': hash(parameters),\n",
    "        'parameters': parameters,\n",
    "    }\n",
    "    return results"
   ]
  },
  {
   "cell_type": "code",
   "execution_count": 22,
   "metadata": {
    "collapsed": true
   },
   "outputs": [],
   "source": [
    "import random\n",
    "\n",
    "def launch_search(executor, model_class, param_space,\n",
    "                  n_combinations=100, random_seed=None):\n",
    "    rng = random.Random(random_seed)\n",
    "    futures = []\n",
    "    param_space = list(param_space)\n",
    "    rng.shuffle(param_space)\n",
    "    for params in param_space[:n_combinations]:\n",
    "        for cv_split in cv_splits:\n",
    "            f = executor.submit(evaluate_one, model_class,\n",
    "                                cv_split, params)\n",
    "            futures.append(f)\n",
    "            \n",
    "    return futures"
   ]
  },
  {
   "cell_type": "code",
   "execution_count": 38,
   "metadata": {
    "collapsed": false
   },
   "outputs": [],
   "source": [
    "from sklearn.grid_search import ParameterGrid\n",
    "from sklearn.svm import SVC\n",
    "import numpy as np\n",
    "import pandas as pd\n",
    "\n",
    "\n",
    "param_space = ParameterGrid({\n",
    "    'C': np.logspace(-10, 10, 101),\n",
    "    'gamma': np.logspace(-10, 10, 101),\n",
    "    'tol': np.logspace(-4, -1, 4),\n",
    "})\n",
    "\n",
    "results = launch_search(e, SVC, param_space, n_combinations=n_cores * 10)"
   ]
  },
  {
   "cell_type": "code",
   "execution_count": 39,
   "metadata": {
    "collapsed": false
   },
   "outputs": [],
   "source": [
    "progress(results)"
   ]
  },
  {
   "cell_type": "code",
   "execution_count": 40,
   "metadata": {
    "collapsed": false
   },
   "outputs": [
    {
     "data": {
      "text/plain": [
       "606"
      ]
     },
     "execution_count": 40,
     "metadata": {},
     "output_type": "execute_result"
    }
   ],
   "source": [
    "len([f for f in results if f.done()])"
   ]
  },
  {
   "cell_type": "code",
   "execution_count": 44,
   "metadata": {
    "collapsed": false
   },
   "outputs": [
    {
     "data": {
      "text/html": [
       "<div>\n",
       "<table border=\"1\" class=\"dataframe\">\n",
       "  <thead>\n",
       "    <tr style=\"text-align: right;\">\n",
       "      <th></th>\n",
       "      <th>split_idx</th>\n",
       "      <th>train_score</th>\n",
       "      <th>training_time</th>\n",
       "      <th>validation_score</th>\n",
       "    </tr>\n",
       "  </thead>\n",
       "  <tbody>\n",
       "    <tr>\n",
       "      <th>count</th>\n",
       "      <td>2093.000000</td>\n",
       "      <td>2093.000000</td>\n",
       "      <td>2093.000000</td>\n",
       "      <td>2093.000000</td>\n",
       "    </tr>\n",
       "    <tr>\n",
       "      <th>mean</th>\n",
       "      <td>1.004300</td>\n",
       "      <td>0.570520</td>\n",
       "      <td>0.585984</td>\n",
       "      <td>0.266975</td>\n",
       "    </tr>\n",
       "    <tr>\n",
       "      <th>std</th>\n",
       "      <td>0.823577</td>\n",
       "      <td>0.442469</td>\n",
       "      <td>0.226018</td>\n",
       "      <td>0.357706</td>\n",
       "    </tr>\n",
       "    <tr>\n",
       "      <th>min</th>\n",
       "      <td>0.000000</td>\n",
       "      <td>0.105776</td>\n",
       "      <td>0.050811</td>\n",
       "      <td>0.077778</td>\n",
       "    </tr>\n",
       "    <tr>\n",
       "      <th>25%</th>\n",
       "      <td>0.000000</td>\n",
       "      <td>0.105776</td>\n",
       "      <td>0.584205</td>\n",
       "      <td>0.077778</td>\n",
       "    </tr>\n",
       "    <tr>\n",
       "      <th>50%</th>\n",
       "      <td>1.000000</td>\n",
       "      <td>0.956855</td>\n",
       "      <td>0.648043</td>\n",
       "      <td>0.080556</td>\n",
       "    </tr>\n",
       "    <tr>\n",
       "      <th>75%</th>\n",
       "      <td>2.000000</td>\n",
       "      <td>1.000000</td>\n",
       "      <td>0.714237</td>\n",
       "      <td>0.083333</td>\n",
       "    </tr>\n",
       "    <tr>\n",
       "      <th>max</th>\n",
       "      <td>2.000000</td>\n",
       "      <td>1.000000</td>\n",
       "      <td>1.242411</td>\n",
       "      <td>0.994444</td>\n",
       "    </tr>\n",
       "  </tbody>\n",
       "</table>\n",
       "</div>"
      ],
      "text/plain": [
       "         split_idx  train_score  training_time  validation_score\n",
       "count  2093.000000  2093.000000    2093.000000       2093.000000\n",
       "mean      1.004300     0.570520       0.585984          0.266975\n",
       "std       0.823577     0.442469       0.226018          0.357706\n",
       "min       0.000000     0.105776       0.050811          0.077778\n",
       "25%       0.000000     0.105776       0.584205          0.077778\n",
       "50%       1.000000     0.956855       0.648043          0.080556\n",
       "75%       2.000000     1.000000       0.714237          0.083333\n",
       "max       2.000000     1.000000       1.242411          0.994444"
      ]
     },
     "execution_count": 44,
     "metadata": {},
     "output_type": "execute_result"
    }
   ],
   "source": [
    "ready_list = e.gather([f for f in results if f.done()])\n",
    "ready = pd.DataFrame.from_dict(ready_list)\n",
    "ready.describe()"
   ]
  },
  {
   "cell_type": "code",
   "execution_count": 45,
   "metadata": {
    "collapsed": false
   },
   "outputs": [
    {
     "data": {
      "image/png": "[encoded data removed]",
      "text/plain": [
       "<matplotlib.figure.Figure at 0x7f48dc6aca58>"
      ]
     },
     "metadata": {},
     "output_type": "display_data"
    }
   ],
   "source": [
    "%matplotlib inline\n",
    "ready['validation_score'].plot(kind='hist',\n",
    "                               bins=np.linspace(0, 1, 100));"
   ]
  },
  {
   "cell_type": "code",
   "execution_count": 31,
   "metadata": {
    "collapsed": false
   },
   "outputs": [
    {
     "data": {
      "image/png": "[encoded data removed]",
      "text/plain": [
       "<matplotlib.figure.Figure at 0x7f47f49b9d30>"
      ]
     },
     "metadata": {},
     "output_type": "display_data"
    }
   ],
   "source": [
    "ready['train_score'].plot(kind='hist',\n",
    "                          bins=np.linspace(0, 1, 100));"
   ]
  },
  {
   "cell_type": "code",
   "execution_count": 32,
   "metadata": {
    "collapsed": false
   },
   "outputs": [],
   "source": [
    "mean_evaluations = ready.groupby('parameters_hash').agg({\n",
    "    'train_score': np.mean,\n",
    "    'validation_score': np.mean,\n",
    "    'training_time': np.mean,\n",
    "}).reset_index()\n",
    "\n",
    "all_parameters = pd.DataFrame.from_dict(list(ready['parameters']))\n",
    "all_parameters['parameters_hash'] = ready['parameters_hash']\n",
    "\n",
    "evaluations = (\n",
    "    mean_evaluations\n",
    "    .merge(all_parameters)\n",
    "    .drop(['parameters_hash'], axis=1)\n",
    ")"
   ]
  },
  {
   "cell_type": "code",
   "execution_count": 33,
   "metadata": {
    "collapsed": false
   },
   "outputs": [
    {
     "data": {
      "text/html": [
       "<div>\n",
       "<table border=\"1\" class=\"dataframe\">\n",
       "  <thead>\n",
       "    <tr style=\"text-align: right;\">\n",
       "      <th></th>\n",
       "      <th>validation_score</th>\n",
       "      <th>train_score</th>\n",
       "      <th>training_time</th>\n",
       "      <th>C</th>\n",
       "      <th>gamma</th>\n",
       "      <th>tol</th>\n",
       "    </tr>\n",
       "  </thead>\n",
       "  <tbody>\n",
       "    <tr>\n",
       "      <th>111</th>\n",
       "      <td>0.987963</td>\n",
       "      <td>1.000000</td>\n",
       "      <td>0.223611</td>\n",
       "      <td>6.309573e+09</td>\n",
       "      <td>0.001585</td>\n",
       "      <td>0.1000</td>\n",
       "    </tr>\n",
       "    <tr>\n",
       "      <th>2602</th>\n",
       "      <td>0.987963</td>\n",
       "      <td>1.000000</td>\n",
       "      <td>0.304209</td>\n",
       "      <td>6.309573e+00</td>\n",
       "      <td>0.001585</td>\n",
       "      <td>0.0001</td>\n",
       "    </tr>\n",
       "    <tr>\n",
       "      <th>1162</th>\n",
       "      <td>0.987963</td>\n",
       "      <td>1.000000</td>\n",
       "      <td>0.371959</td>\n",
       "      <td>1.000000e+04</td>\n",
       "      <td>0.001585</td>\n",
       "      <td>0.0010</td>\n",
       "    </tr>\n",
       "    <tr>\n",
       "      <th>113</th>\n",
       "      <td>0.987963</td>\n",
       "      <td>1.000000</td>\n",
       "      <td>0.223611</td>\n",
       "      <td>6.309573e+09</td>\n",
       "      <td>0.001585</td>\n",
       "      <td>0.1000</td>\n",
       "    </tr>\n",
       "    <tr>\n",
       "      <th>112</th>\n",
       "      <td>0.987963</td>\n",
       "      <td>1.000000</td>\n",
       "      <td>0.223611</td>\n",
       "      <td>6.309573e+09</td>\n",
       "      <td>0.001585</td>\n",
       "      <td>0.1000</td>\n",
       "    </tr>\n",
       "    <tr>\n",
       "      <th>805</th>\n",
       "      <td>0.987963</td>\n",
       "      <td>0.994201</td>\n",
       "      <td>0.139851</td>\n",
       "      <td>1.000000e+00</td>\n",
       "      <td>0.000398</td>\n",
       "      <td>0.0100</td>\n",
       "    </tr>\n",
       "    <tr>\n",
       "      <th>319</th>\n",
       "      <td>0.987963</td>\n",
       "      <td>1.000000</td>\n",
       "      <td>0.296609</td>\n",
       "      <td>1.000000e+06</td>\n",
       "      <td>0.001585</td>\n",
       "      <td>0.0010</td>\n",
       "    </tr>\n",
       "    <tr>\n",
       "      <th>320</th>\n",
       "      <td>0.987963</td>\n",
       "      <td>1.000000</td>\n",
       "      <td>0.296609</td>\n",
       "      <td>1.000000e+06</td>\n",
       "      <td>0.001585</td>\n",
       "      <td>0.0010</td>\n",
       "    </tr>\n",
       "    <tr>\n",
       "      <th>1935</th>\n",
       "      <td>0.987963</td>\n",
       "      <td>1.000000</td>\n",
       "      <td>0.226825</td>\n",
       "      <td>1.584893e+01</td>\n",
       "      <td>0.001585</td>\n",
       "      <td>0.1000</td>\n",
       "    </tr>\n",
       "    <tr>\n",
       "      <th>804</th>\n",
       "      <td>0.987963</td>\n",
       "      <td>0.994201</td>\n",
       "      <td>0.139851</td>\n",
       "      <td>1.000000e+00</td>\n",
       "      <td>0.000398</td>\n",
       "      <td>0.0100</td>\n",
       "    </tr>\n",
       "  </tbody>\n",
       "</table>\n",
       "</div>"
      ],
      "text/plain": [
       "      validation_score  train_score  training_time             C     gamma  \\\n",
       "111           0.987963     1.000000       0.223611  6.309573e+09  0.001585   \n",
       "2602          0.987963     1.000000       0.304209  6.309573e+00  0.001585   \n",
       "1162          0.987963     1.000000       0.371959  1.000000e+04  0.001585   \n",
       "113           0.987963     1.000000       0.223611  6.309573e+09  0.001585   \n",
       "112           0.987963     1.000000       0.223611  6.309573e+09  0.001585   \n",
       "805           0.987963     0.994201       0.139851  1.000000e+00  0.000398   \n",
       "319           0.987963     1.000000       0.296609  1.000000e+06  0.001585   \n",
       "320           0.987963     1.000000       0.296609  1.000000e+06  0.001585   \n",
       "1935          0.987963     1.000000       0.226825  1.584893e+01  0.001585   \n",
       "804           0.987963     0.994201       0.139851  1.000000e+00  0.000398   \n",
       "\n",
       "         tol  \n",
       "111   0.1000  \n",
       "2602  0.0001  \n",
       "1162  0.0010  \n",
       "113   0.1000  \n",
       "112   0.1000  \n",
       "805   0.0100  \n",
       "319   0.0010  \n",
       "320   0.0010  \n",
       "1935  0.1000  \n",
       "804   0.0100  "
      ]
     },
     "execution_count": 33,
     "metadata": {},
     "output_type": "execute_result"
    }
   ],
   "source": [
    "top10 = evaluations.sort_values(\n",
    "    by='validation_score', ascending=False).head(10)\n",
    "top10"
   ]
  },
  {
   "cell_type": "code",
   "execution_count": 46,
   "metadata": {
    "collapsed": false
   },
   "outputs": [
    {
     "data": {
      "image/png": "[encoded data removed]",
      "text/plain": [
       "<matplotlib.figure.Figure at 0x7f48dc6ee9e8>"
      ]
     },
     "metadata": {},
     "output_type": "display_data"
    }
   ],
   "source": [
    "import matplotlib.pyplot as plt\n",
    "\n",
    "def plot_param_map(df, target, title):\n",
    "    plt.xlabel('log10(C)')\n",
    "    plt.ylabel('log10(gamma)')\n",
    "    plt.xlim(-10, 10)\n",
    "    plt.ylim(-10, 10)\n",
    "    plt.scatter(np.log10(df['C']), np.log10(df['gamma']),\n",
    "                c=target,\n",
    "                marker='s', edgecolors='none',\n",
    "                s=80, alpha=1, cmap='viridis')\n",
    "    plt.colorbar()\n",
    "    plt.title(title)\n",
    "\n",
    "plt.figure(figsize=(6, 5))\n",
    "plot_param_map(evaluations, evaluations['validation_score'],\n",
    "               'validation score')\n",
    "plt.scatter(np.log10(top10['C']), np.log10(top10['gamma']),\n",
    "            c='r', s=50);"
   ]
  },
  {
   "cell_type": "code",
   "execution_count": 35,
   "metadata": {
    "collapsed": false
   },
   "outputs": [
    {
     "data": {
      "image/png": "[encoded data removed]",
      "text/plain": [
       "<matplotlib.figure.Figure at 0x7f485c14f0b8>"
      ]
     },
     "metadata": {},
     "output_type": "display_data"
    }
   ],
   "source": [
    "plt.figure(figsize=(6, 5))\n",
    "plot_param_map(evaluations, evaluations['train_score'], 'train score')"
   ]
  },
  {
   "cell_type": "code",
   "execution_count": 47,
   "metadata": {
    "collapsed": false
   },
   "outputs": [
    {
     "data": {
      "image/png": "[encoded data removed]",
      "text/plain": [
       "<matplotlib.figure.Figure at 0x7f48dc7364e0>"
      ]
     },
     "metadata": {},
     "output_type": "display_data"
    }
   ],
   "source": [
    "plt.figure(figsize=(6, 5))\n",
    "gap = evaluations['train_score'] - evaluations['validation_score']\n",
    "plot_param_map(evaluations, gap, 'gap')"
   ]
  },
  {
   "cell_type": "code",
   "execution_count": 37,
   "metadata": {
    "collapsed": false
   },
   "outputs": [
    {
     "data": {
      "image/png": "[encoded data removed]",
      "text/plain": [
       "<matplotlib.figure.Figure at 0x7f47f459eb70>"
      ]
     },
     "metadata": {},
     "output_type": "display_data"
    }
   ],
   "source": [
    "plt.figure(figsize=(6, 5))\n",
    "high_tol = evaluations[evaluations['tol'] == 0.1]\n",
    "plot_param_map(high_tol, high_tol['training_time'], 'training time (s)')"
   ]
  },
  {
   "cell_type": "code",
   "execution_count": null,
   "metadata": {
    "collapsed": true
   },
   "outputs": [],
   "source": []
  }
 ],
 "metadata": {
  "kernelspec": {
   "display_name": "Python 3",
   "language": "python",
   "name": "python3"
  },
  "language_info": {
   "codemirror_mode": {
    "name": "ipython",
    "version": 3
   },
   "file_extension": ".py",
   "mimetype": "text/x-python",
   "name": "python",
   "nbconvert_exporter": "python",
   "pygments_lexer": "ipython3",
   "version": "3.5.1"
  }
 },
 "nbformat": 4,
 "nbformat_minor": 0
}
