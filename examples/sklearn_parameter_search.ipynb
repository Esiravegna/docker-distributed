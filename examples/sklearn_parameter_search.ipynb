{
 "cells": [
  {
   "cell_type": "code",
   "execution_count": 1,
   "metadata": {
    "collapsed": true
   },
   "outputs": [],
   "source": [
    "from distributed import Executor, progress"
   ]
  },
  {
   "cell_type": "code",
   "execution_count": 2,
   "metadata": {
    "collapsed": false
   },
   "outputs": [],
   "source": [
    "e = Executor('dscheduler:8786')"
   ]
  },
  {
   "cell_type": "code",
   "execution_count": 3,
   "metadata": {
    "collapsed": false
   },
   "outputs": [
    {
     "data": {
      "text/plain": [
       "<Executor: scheduler=dscheduler:8786 processes=3 cores=96>"
      ]
     },
     "execution_count": 3,
     "metadata": {},
     "output_type": "execute_result"
    }
   ],
   "source": [
    "e.restart()"
   ]
  },
  {
   "cell_type": "code",
   "execution_count": 4,
   "metadata": {
    "collapsed": false
   },
   "outputs": [
    {
     "data": {
      "text/plain": [
       "96"
      ]
     },
     "execution_count": 4,
     "metadata": {},
     "output_type": "execute_result"
    }
   ],
   "source": [
    "n_cores = sum(e.ncores().values())\n",
    "n_cores"
   ]
  },
  {
   "cell_type": "code",
   "execution_count": 5,
   "metadata": {
    "collapsed": false
   },
   "outputs": [],
   "source": [
    "from time import sleep\n",
    "futures = e.map(sleep, [0.1] * (n_cores * 100), pure=False)\n",
    "progress(futures)"
   ]
  },
  {
   "cell_type": "code",
   "execution_count": 6,
   "metadata": {
    "collapsed": true
   },
   "outputs": [],
   "source": [
    "import subprocess\n",
    "\n",
    "\n",
    "def install_libs():\n",
    "    libs = 'scikit-learn joblib pandas matplotlib'.split()\n",
    "    return subprocess.check_call('conda install -yq'.split() + libs)"
   ]
  },
  {
   "cell_type": "code",
   "execution_count": 7,
   "metadata": {
    "collapsed": false
   },
   "outputs": [
    {
     "data": {
      "text/plain": [
       "0"
      ]
     },
     "execution_count": 7,
     "metadata": {},
     "output_type": "execute_result"
    }
   ],
   "source": [
    "install_libs()"
   ]
  },
  {
   "cell_type": "code",
   "execution_count": 8,
   "metadata": {
    "collapsed": false
   },
   "outputs": [
    {
     "data": {
      "text/plain": [
       "{'10.112.0.6:48953': 0, '10.112.1.3:47835': 0, '10.112.2.3:54556': 0}"
      ]
     },
     "execution_count": 8,
     "metadata": {},
     "output_type": "execute_result"
    }
   ],
   "source": [
    "e.run(install_libs)"
   ]
  },
  {
   "cell_type": "code",
   "execution_count": 9,
   "metadata": {
    "collapsed": true
   },
   "outputs": [],
   "source": [
    "import pandas as pd\n",
    "from sklearn.datasets import load_digits\n",
    "from sklearn.cross_validation import train_test_split"
   ]
  },
  {
   "cell_type": "code",
   "execution_count": 10,
   "metadata": {
    "collapsed": false
   },
   "outputs": [],
   "source": [
    "def load_cv_split(split_idx):\n",
    "    data = load_digits()  # XXX: hard-coded\n",
    "    splitted = train_test_split(data.data, data.target,\n",
    "                               test_size=0.20,\n",
    "                               random_state=split_idx)\n",
    "    return split_idx, splitted\n",
    "\n",
    "# Pre-compute the cross-validation splits and broadcast them to each worker\n",
    "cv_splits = e.scatter([load_cv_split(i) for i in range(3)], broadcast=True)"
   ]
  },
  {
   "cell_type": "code",
   "execution_count": 11,
   "metadata": {
    "collapsed": false
   },
   "outputs": [
    {
     "data": {
      "text/plain": [
       "[<Future: status: finished, key: 81c5b12b631fd1a707c92bba905da1bd>,\n",
       " <Future: status: finished, key: c4a211ca3ae298909c78bde726f3109b>,\n",
       " <Future: status: finished, key: c9787180397815b66c284d1b25f44589>]"
      ]
     },
     "execution_count": 11,
     "metadata": {},
     "output_type": "execute_result"
    }
   ],
   "source": [
    "cv_splits"
   ]
  },
  {
   "cell_type": "code",
   "execution_count": 12,
   "metadata": {
    "collapsed": false
   },
   "outputs": [],
   "source": [
    "from joblib import hash, Memory\n",
    "from time import time\n",
    "\n",
    "\n",
    "def evaluate_one(model_class, cv_split, parameters):\n",
    "    split_idx, (X_train, X_val, y_train, y_val) = cv_split\n",
    "    t0 = time()\n",
    "    model = model_class(**parameters).fit(X_train, y_train)\n",
    "    training_time = time() - t0\n",
    "\n",
    "    train_score = model.score(X_train, y_train)\n",
    "    validation_score = model.score(X_val, y_val)\n",
    "    \n",
    "    results = {\n",
    "        'split_idx': split_idx,\n",
    "        'training_time': training_time,\n",
    "        'train_score': train_score,\n",
    "        'validation_score': validation_score,\n",
    "        'parameters_hash': hash(parameters),\n",
    "        'parameters': parameters,\n",
    "    }\n",
    "    return results"
   ]
  },
  {
   "cell_type": "code",
   "execution_count": 13,
   "metadata": {
    "collapsed": true
   },
   "outputs": [],
   "source": [
    "import random\n",
    "\n",
    "def launch_search(executor, model_class, param_space, n_combinations=100,\n",
    "                  random_seed=None):\n",
    "    rng = random.Random(random_seed)\n",
    "    futures = []\n",
    "    param_space = list(param_space)\n",
    "    rng.shuffle(param_space)\n",
    "    for params in param_space[:n_combinations]:\n",
    "        for cv_split in cv_splits:\n",
    "            f = executor.submit(evaluate_one, model_class,\n",
    "                                cv_split, params)\n",
    "            futures.append(f)\n",
    "            \n",
    "    return futures"
   ]
  },
  {
   "cell_type": "code",
   "execution_count": 14,
   "metadata": {
    "collapsed": false
   },
   "outputs": [],
   "source": [
    "from sklearn.grid_search import ParameterGrid\n",
    "from sklearn.svm import SVC\n",
    "import numpy as np\n",
    "\n",
    "\n",
    "param_space = ParameterGrid({\n",
    "    'C': np.logspace(-10, 10, 101),\n",
    "    'gamma': np.logspace(-10, 10, 101),\n",
    "    'tol': np.logspace(-4, -1, 4),\n",
    "})\n",
    "\n",
    "results = launch_search(e, SVC, param_space, n_combinations=n_cores * 10)"
   ]
  },
  {
   "cell_type": "code",
   "execution_count": 15,
   "metadata": {
    "collapsed": true
   },
   "outputs": [],
   "source": [
    "progress(results)"
   ]
  },
  {
   "cell_type": "code",
   "execution_count": 28,
   "metadata": {
    "collapsed": false
   },
   "outputs": [
    {
     "data": {
      "text/plain": [
       "2880"
      ]
     },
     "execution_count": 28,
     "metadata": {},
     "output_type": "execute_result"
    }
   ],
   "source": [
    "len([f for f in results if f.done()])"
   ]
  },
  {
   "cell_type": "code",
   "execution_count": 29,
   "metadata": {
    "collapsed": false
   },
   "outputs": [],
   "source": [
    "ready_list = e.gather([f for f in results if f.done()])"
   ]
  },
  {
   "cell_type": "code",
   "execution_count": 30,
   "metadata": {
    "collapsed": false
   },
   "outputs": [
    {
     "data": {
      "text/html": [
       "<div>\n",
       "<table border=\"1\" class=\"dataframe\">\n",
       "  <thead>\n",
       "    <tr style=\"text-align: right;\">\n",
       "      <th></th>\n",
       "      <th>parameters</th>\n",
       "      <th>parameters_hash</th>\n",
       "      <th>split_idx</th>\n",
       "      <th>train_score</th>\n",
       "      <th>training_time</th>\n",
       "      <th>validation_score</th>\n",
       "    </tr>\n",
       "  </thead>\n",
       "  <tbody>\n",
       "    <tr>\n",
       "      <th>0</th>\n",
       "      <td>{'C': 6309.5734448, 'tol': 0.0001, 'gamma': 3....</td>\n",
       "      <td>094738064f71d368b80094299ef61fcf</td>\n",
       "      <td>0</td>\n",
       "      <td>0.986082</td>\n",
       "      <td>0.097658</td>\n",
       "      <td>0.980556</td>\n",
       "    </tr>\n",
       "    <tr>\n",
       "      <th>1</th>\n",
       "      <td>{'C': 6309.5734448, 'tol': 0.0001, 'gamma': 3....</td>\n",
       "      <td>094738064f71d368b80094299ef61fcf</td>\n",
       "      <td>1</td>\n",
       "      <td>0.984690</td>\n",
       "      <td>0.191810</td>\n",
       "      <td>0.986111</td>\n",
       "    </tr>\n",
       "    <tr>\n",
       "      <th>2</th>\n",
       "      <td>{'C': 6309.5734448, 'tol': 0.0001, 'gamma': 3....</td>\n",
       "      <td>094738064f71d368b80094299ef61fcf</td>\n",
       "      <td>2</td>\n",
       "      <td>0.989562</td>\n",
       "      <td>0.127663</td>\n",
       "      <td>0.961111</td>\n",
       "    </tr>\n",
       "    <tr>\n",
       "      <th>3</th>\n",
       "      <td>{'C': 2.51188643151e-05, 'tol': 0.1, 'gamma': ...</td>\n",
       "      <td>a852e269bd2538c412d615a5c98895d5</td>\n",
       "      <td>0</td>\n",
       "      <td>0.107168</td>\n",
       "      <td>0.713491</td>\n",
       "      <td>0.080556</td>\n",
       "    </tr>\n",
       "    <tr>\n",
       "      <th>4</th>\n",
       "      <td>{'C': 2.51188643151e-05, 'tol': 0.1, 'gamma': ...</td>\n",
       "      <td>a852e269bd2538c412d615a5c98895d5</td>\n",
       "      <td>1</td>\n",
       "      <td>0.105776</td>\n",
       "      <td>0.711305</td>\n",
       "      <td>0.083333</td>\n",
       "    </tr>\n",
       "  </tbody>\n",
       "</table>\n",
       "</div>"
      ],
      "text/plain": [
       "                                          parameters  \\\n",
       "0  {'C': 6309.5734448, 'tol': 0.0001, 'gamma': 3....   \n",
       "1  {'C': 6309.5734448, 'tol': 0.0001, 'gamma': 3....   \n",
       "2  {'C': 6309.5734448, 'tol': 0.0001, 'gamma': 3....   \n",
       "3  {'C': 2.51188643151e-05, 'tol': 0.1, 'gamma': ...   \n",
       "4  {'C': 2.51188643151e-05, 'tol': 0.1, 'gamma': ...   \n",
       "\n",
       "                    parameters_hash  split_idx  train_score  training_time  \\\n",
       "0  094738064f71d368b80094299ef61fcf          0     0.986082       0.097658   \n",
       "1  094738064f71d368b80094299ef61fcf          1     0.984690       0.191810   \n",
       "2  094738064f71d368b80094299ef61fcf          2     0.989562       0.127663   \n",
       "3  a852e269bd2538c412d615a5c98895d5          0     0.107168       0.713491   \n",
       "4  a852e269bd2538c412d615a5c98895d5          1     0.105776       0.711305   \n",
       "\n",
       "   validation_score  \n",
       "0          0.980556  \n",
       "1          0.986111  \n",
       "2          0.961111  \n",
       "3          0.080556  \n",
       "4          0.083333  "
      ]
     },
     "execution_count": 30,
     "metadata": {},
     "output_type": "execute_result"
    }
   ],
   "source": [
    "ready = pd.DataFrame.from_dict(ready_list)\n",
    "ready.head(5)"
   ]
  },
  {
   "cell_type": "code",
   "execution_count": 31,
   "metadata": {
    "collapsed": false
   },
   "outputs": [
    {
     "data": {
      "text/html": [
       "<div>\n",
       "<table border=\"1\" class=\"dataframe\">\n",
       "  <thead>\n",
       "    <tr style=\"text-align: right;\">\n",
       "      <th></th>\n",
       "      <th>split_idx</th>\n",
       "      <th>train_score</th>\n",
       "      <th>training_time</th>\n",
       "      <th>validation_score</th>\n",
       "    </tr>\n",
       "  </thead>\n",
       "  <tbody>\n",
       "    <tr>\n",
       "      <th>count</th>\n",
       "      <td>2880.000000</td>\n",
       "      <td>2880.000000</td>\n",
       "      <td>2880.000000</td>\n",
       "      <td>2880.000000</td>\n",
       "    </tr>\n",
       "    <tr>\n",
       "      <th>mean</th>\n",
       "      <td>1.000000</td>\n",
       "      <td>0.571340</td>\n",
       "      <td>0.590848</td>\n",
       "      <td>0.255476</td>\n",
       "    </tr>\n",
       "    <tr>\n",
       "      <th>std</th>\n",
       "      <td>0.816638</td>\n",
       "      <td>0.443502</td>\n",
       "      <td>0.235034</td>\n",
       "      <td>0.350647</td>\n",
       "    </tr>\n",
       "    <tr>\n",
       "      <th>min</th>\n",
       "      <td>0.000000</td>\n",
       "      <td>0.105776</td>\n",
       "      <td>0.054801</td>\n",
       "      <td>0.077778</td>\n",
       "    </tr>\n",
       "    <tr>\n",
       "      <th>25%</th>\n",
       "      <td>0.000000</td>\n",
       "      <td>0.105776</td>\n",
       "      <td>0.585081</td>\n",
       "      <td>0.077778</td>\n",
       "    </tr>\n",
       "    <tr>\n",
       "      <th>50%</th>\n",
       "      <td>1.000000</td>\n",
       "      <td>0.971120</td>\n",
       "      <td>0.646429</td>\n",
       "      <td>0.080556</td>\n",
       "    </tr>\n",
       "    <tr>\n",
       "      <th>75%</th>\n",
       "      <td>2.000000</td>\n",
       "      <td>1.000000</td>\n",
       "      <td>0.714909</td>\n",
       "      <td>0.083333</td>\n",
       "    </tr>\n",
       "    <tr>\n",
       "      <th>max</th>\n",
       "      <td>2.000000</td>\n",
       "      <td>1.000000</td>\n",
       "      <td>1.380149</td>\n",
       "      <td>0.994444</td>\n",
       "    </tr>\n",
       "  </tbody>\n",
       "</table>\n",
       "</div>"
      ],
      "text/plain": [
       "         split_idx  train_score  training_time  validation_score\n",
       "count  2880.000000  2880.000000    2880.000000       2880.000000\n",
       "mean      1.000000     0.571340       0.590848          0.255476\n",
       "std       0.816638     0.443502       0.235034          0.350647\n",
       "min       0.000000     0.105776       0.054801          0.077778\n",
       "25%       0.000000     0.105776       0.585081          0.077778\n",
       "50%       1.000000     0.971120       0.646429          0.080556\n",
       "75%       2.000000     1.000000       0.714909          0.083333\n",
       "max       2.000000     1.000000       1.380149          0.994444"
      ]
     },
     "execution_count": 31,
     "metadata": {},
     "output_type": "execute_result"
    }
   ],
   "source": [
    "ready.describe()"
   ]
  },
  {
   "cell_type": "code",
   "execution_count": 32,
   "metadata": {
    "collapsed": false
   },
   "outputs": [
    {
     "data": {
      "image/png": "[encoded data removed]",
      "text/plain": [
       "<matplotlib.figure.Figure at 0x7fde136b5eb8>"
      ]
     },
     "metadata": {},
     "output_type": "display_data"
    }
   ],
   "source": [
    "%matplotlib inline\n",
    "ready['validation_score'].plot(kind='hist', bins=np.linspace(0, 1, 100));"
   ]
  },
  {
   "cell_type": "code",
   "execution_count": 33,
   "metadata": {
    "collapsed": false
   },
   "outputs": [
    {
     "data": {
      "image/png": "[encoded data removed]",
      "text/plain": [
       "<matplotlib.figure.Figure at 0x7fde13a79908>"
      ]
     },
     "metadata": {},
     "output_type": "display_data"
    }
   ],
   "source": [
    "ready['train_score'].plot(kind='hist', bins=np.linspace(0, 1, 100));"
   ]
  },
  {
   "cell_type": "code",
   "execution_count": 34,
   "metadata": {
    "collapsed": false
   },
   "outputs": [],
   "source": [
    "mean_evaluations = ready.groupby('parameters_hash').agg({\n",
    "    'train_score': np.mean,\n",
    "    'validation_score': np.mean,\n",
    "    'training_time': np.mean,\n",
    "}).reset_index()\n",
    "\n",
    "all_parameters = pd.DataFrame.from_dict(list(ready['parameters']))\n",
    "all_parameters['parameters_hash'] = ready['parameters_hash']\n",
    "\n",
    "evaluations = (\n",
    "    mean_evaluations\n",
    "    .merge(all_parameters)\n",
    "    .drop(['parameters_hash'], axis=1)\n",
    ")"
   ]
  },
  {
   "cell_type": "code",
   "execution_count": 35,
   "metadata": {
    "collapsed": false
   },
   "outputs": [
    {
     "data": {
      "text/html": [
       "<div>\n",
       "<table border=\"1\" class=\"dataframe\">\n",
       "  <thead>\n",
       "    <tr style=\"text-align: right;\">\n",
       "      <th></th>\n",
       "      <th>training_time</th>\n",
       "      <th>train_score</th>\n",
       "      <th>validation_score</th>\n",
       "      <th>C</th>\n",
       "      <th>gamma</th>\n",
       "      <th>tol</th>\n",
       "    </tr>\n",
       "  </thead>\n",
       "  <tbody>\n",
       "    <tr>\n",
       "      <th>1466</th>\n",
       "      <td>0.361082</td>\n",
       "      <td>1.00000</td>\n",
       "      <td>0.987963</td>\n",
       "      <td>3.981072e+05</td>\n",
       "      <td>0.001585</td>\n",
       "      <td>0.0100</td>\n",
       "    </tr>\n",
       "    <tr>\n",
       "      <th>1760</th>\n",
       "      <td>0.295207</td>\n",
       "      <td>1.00000</td>\n",
       "      <td>0.987963</td>\n",
       "      <td>6.309573e+09</td>\n",
       "      <td>0.001585</td>\n",
       "      <td>0.0010</td>\n",
       "    </tr>\n",
       "    <tr>\n",
       "      <th>1600</th>\n",
       "      <td>0.343584</td>\n",
       "      <td>1.00000</td>\n",
       "      <td>0.987963</td>\n",
       "      <td>6.309573e+07</td>\n",
       "      <td>0.001585</td>\n",
       "      <td>0.0001</td>\n",
       "    </tr>\n",
       "    <tr>\n",
       "      <th>1601</th>\n",
       "      <td>0.343584</td>\n",
       "      <td>1.00000</td>\n",
       "      <td>0.987963</td>\n",
       "      <td>6.309573e+07</td>\n",
       "      <td>0.001585</td>\n",
       "      <td>0.0001</td>\n",
       "    </tr>\n",
       "    <tr>\n",
       "      <th>1758</th>\n",
       "      <td>0.295207</td>\n",
       "      <td>1.00000</td>\n",
       "      <td>0.987963</td>\n",
       "      <td>6.309573e+09</td>\n",
       "      <td>0.001585</td>\n",
       "      <td>0.0010</td>\n",
       "    </tr>\n",
       "    <tr>\n",
       "      <th>2667</th>\n",
       "      <td>0.272575</td>\n",
       "      <td>0.99884</td>\n",
       "      <td>0.987963</td>\n",
       "      <td>6.309573e-01</td>\n",
       "      <td>0.001585</td>\n",
       "      <td>0.0100</td>\n",
       "    </tr>\n",
       "    <tr>\n",
       "      <th>1599</th>\n",
       "      <td>0.343584</td>\n",
       "      <td>1.00000</td>\n",
       "      <td>0.987963</td>\n",
       "      <td>6.309573e+07</td>\n",
       "      <td>0.001585</td>\n",
       "      <td>0.0001</td>\n",
       "    </tr>\n",
       "    <tr>\n",
       "      <th>1759</th>\n",
       "      <td>0.295207</td>\n",
       "      <td>1.00000</td>\n",
       "      <td>0.987963</td>\n",
       "      <td>6.309573e+09</td>\n",
       "      <td>0.001585</td>\n",
       "      <td>0.0010</td>\n",
       "    </tr>\n",
       "    <tr>\n",
       "      <th>1465</th>\n",
       "      <td>0.361082</td>\n",
       "      <td>1.00000</td>\n",
       "      <td>0.987963</td>\n",
       "      <td>3.981072e+05</td>\n",
       "      <td>0.001585</td>\n",
       "      <td>0.0100</td>\n",
       "    </tr>\n",
       "    <tr>\n",
       "      <th>2668</th>\n",
       "      <td>0.272575</td>\n",
       "      <td>0.99884</td>\n",
       "      <td>0.987963</td>\n",
       "      <td>6.309573e-01</td>\n",
       "      <td>0.001585</td>\n",
       "      <td>0.0100</td>\n",
       "    </tr>\n",
       "  </tbody>\n",
       "</table>\n",
       "</div>"
      ],
      "text/plain": [
       "      training_time  train_score  validation_score             C     gamma  \\\n",
       "1466       0.361082      1.00000          0.987963  3.981072e+05  0.001585   \n",
       "1760       0.295207      1.00000          0.987963  6.309573e+09  0.001585   \n",
       "1600       0.343584      1.00000          0.987963  6.309573e+07  0.001585   \n",
       "1601       0.343584      1.00000          0.987963  6.309573e+07  0.001585   \n",
       "1758       0.295207      1.00000          0.987963  6.309573e+09  0.001585   \n",
       "2667       0.272575      0.99884          0.987963  6.309573e-01  0.001585   \n",
       "1599       0.343584      1.00000          0.987963  6.309573e+07  0.001585   \n",
       "1759       0.295207      1.00000          0.987963  6.309573e+09  0.001585   \n",
       "1465       0.361082      1.00000          0.987963  3.981072e+05  0.001585   \n",
       "2668       0.272575      0.99884          0.987963  6.309573e-01  0.001585   \n",
       "\n",
       "         tol  \n",
       "1466  0.0100  \n",
       "1760  0.0010  \n",
       "1600  0.0001  \n",
       "1601  0.0001  \n",
       "1758  0.0010  \n",
       "2667  0.0100  \n",
       "1599  0.0001  \n",
       "1759  0.0010  \n",
       "1465  0.0100  \n",
       "2668  0.0100  "
      ]
     },
     "execution_count": 35,
     "metadata": {},
     "output_type": "execute_result"
    }
   ],
   "source": [
    "top = evaluations.sort_values(by='validation_score', ascending=False).head(10)\n",
    "top"
   ]
  },
  {
   "cell_type": "code",
   "execution_count": 36,
   "metadata": {
    "collapsed": false
   },
   "outputs": [
    {
     "data": {
      "image/png": "[encoded data removed]",
      "text/plain": [
       "<matplotlib.figure.Figure at 0x7fde14367b70>"
      ]
     },
     "metadata": {},
     "output_type": "display_data"
    }
   ],
   "source": [
    "import matplotlib.pyplot as plt\n",
    "\n",
    "def plot_param_map(df, target, title):\n",
    "    plt.xlabel('log10(C)')\n",
    "    plt.ylabel('log10(gamma)')\n",
    "    plt.xlim(-10, 10)\n",
    "    plt.ylim(-10, 10)\n",
    "    plt.scatter(np.log10(df['C']),\n",
    "                np.log10(df['gamma']),\n",
    "                c=target,\n",
    "                marker='s', edgecolors='none',\n",
    "                s=80, alpha=1, cmap='viridis')\n",
    "    plt.colorbar()\n",
    "    plt.title(title)\n",
    "\n",
    "plt.figure(figsize=(8, 7))\n",
    "plot_param_map(evaluations, evaluations['validation_score'], 'validation score')\n",
    "plt.scatter(np.log10(top['C']), np.log10(top['gamma']), c='r', s=50);"
   ]
  },
  {
   "cell_type": "code",
   "execution_count": 37,
   "metadata": {
    "collapsed": false
   },
   "outputs": [
    {
     "data": {
      "image/png": "[encoded data removed]",
      "text/plain": [
       "<matplotlib.figure.Figure at 0x7fde13baf2e8>"
      ]
     },
     "metadata": {},
     "output_type": "display_data"
    }
   ],
   "source": [
    "plt.figure(figsize=(8, 7))\n",
    "plot_param_map(evaluations, evaluations['train_score'], 'train score')"
   ]
  },
  {
   "cell_type": "code",
   "execution_count": 38,
   "metadata": {
    "collapsed": false
   },
   "outputs": [
    {
     "data": {
      "image/png": "[encoded data removed]",
      "text/plain": [
       "<matplotlib.figure.Figure at 0x7fde13ccdeb8>"
      ]
     },
     "metadata": {},
     "output_type": "display_data"
    }
   ],
   "source": [
    "plt.figure(figsize=(8, 7))\n",
    "gap = evaluations['train_score'] - evaluations['validation_score']\n",
    "plot_param_map(evaluations, gap, 'gap')"
   ]
  },
  {
   "cell_type": "code",
   "execution_count": 39,
   "metadata": {
    "collapsed": false
   },
   "outputs": [
    {
     "data": {
      "image/png": "[encoded data removed]",
      "text/plain": [
       "<matplotlib.figure.Figure at 0x7fde13bf7320>"
      ]
     },
     "metadata": {},
     "output_type": "display_data"
    }
   ],
   "source": [
    "plt.figure(figsize=(8, 7))\n",
    "high_tol = evaluations[evaluations['tol'] == 0.1]\n",
    "plot_param_map(high_tol, high_tol['training_time'], 'training time (s)')"
   ]
  },
  {
   "cell_type": "code",
   "execution_count": null,
   "metadata": {
    "collapsed": true
   },
   "outputs": [],
   "source": []
  }
 ],
 "metadata": {
  "kernelspec": {
   "display_name": "Python 3",
   "language": "python",
   "name": "python3"
  },
  "language_info": {
   "codemirror_mode": {
    "name": "ipython",
    "version": 3
   },
   "file_extension": ".py",
   "mimetype": "text/x-python",
   "name": "python",
   "nbconvert_exporter": "python",
   "pygments_lexer": "ipython3",
   "version": "3.5.1"
  }
 },
 "nbformat": 4,
 "nbformat_minor": 0
}
