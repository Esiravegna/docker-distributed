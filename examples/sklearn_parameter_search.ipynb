{
 "cells": [
  {
   "cell_type": "code",
   "execution_count": 1,
   "metadata": {
    "collapsed": true
   },
   "outputs": [],
   "source": [
    "from distributed import Executor, progress"
   ]
  },
  {
   "cell_type": "code",
   "execution_count": 2,
   "metadata": {
    "collapsed": false
   },
   "outputs": [],
   "source": [
    "e = Executor('dscheduler:8786')"
   ]
  },
  {
   "cell_type": "code",
   "execution_count": 3,
   "metadata": {
    "collapsed": false
   },
   "outputs": [
    {
     "data": {
      "text/plain": [
       "<Executor: scheduler=dscheduler:8786 processes=3 cores=96>"
      ]
     },
     "execution_count": 3,
     "metadata": {},
     "output_type": "execute_result"
    }
   ],
   "source": [
    "e.restart()"
   ]
  },
  {
   "cell_type": "code",
   "execution_count": 4,
   "metadata": {
    "collapsed": false
   },
   "outputs": [
    {
     "data": {
      "text/plain": [
       "0"
      ]
     },
     "execution_count": 4,
     "metadata": {},
     "output_type": "execute_result"
    }
   ],
   "source": [
    "import subprocess\n",
    "\n",
    "\n",
    "def install_libs():\n",
    "    libs = 'scikit-learn pandas matplotlib'.split()\n",
    "    return subprocess.check_call('conda install -yq'.split() + libs)\n",
    "\n",
    "install_libs()"
   ]
  },
  {
   "cell_type": "code",
   "execution_count": 5,
   "metadata": {
    "collapsed": false
   },
   "outputs": [
    {
     "data": {
      "text/plain": [
       "{'10.112.0.6:47586': 0, '10.112.1.4:40022': 0, '10.112.2.3:46385': 0}"
      ]
     },
     "execution_count": 5,
     "metadata": {},
     "output_type": "execute_result"
    }
   ],
   "source": [
    "e.run(install_libs)"
   ]
  },
  {
   "cell_type": "code",
   "execution_count": 6,
   "metadata": {
    "collapsed": false
   },
   "outputs": [],
   "source": [
    "def my_add(a, b):\n",
    "    return a + b\n",
    "\n",
    "f1 = e.submit(my_add, 1, 2)"
   ]
  },
  {
   "cell_type": "code",
   "execution_count": 7,
   "metadata": {
    "collapsed": false
   },
   "outputs": [
    {
     "data": {
      "text/plain": [
       "<Future: status: finished, type: int, key: my_add-df74d51e74b6ca08d254db0f26dac8cc>"
      ]
     },
     "execution_count": 7,
     "metadata": {},
     "output_type": "execute_result"
    }
   ],
   "source": [
    "f1"
   ]
  },
  {
   "cell_type": "code",
   "execution_count": 8,
   "metadata": {
    "collapsed": false
   },
   "outputs": [
    {
     "data": {
      "text/plain": [
       "3"
      ]
     },
     "execution_count": 8,
     "metadata": {},
     "output_type": "execute_result"
    }
   ],
   "source": [
    "f1.result()"
   ]
  },
  {
   "cell_type": "code",
   "execution_count": 9,
   "metadata": {
    "collapsed": true
   },
   "outputs": [],
   "source": [
    "f2 = e.submit(my_add, f1, 39)"
   ]
  },
  {
   "cell_type": "code",
   "execution_count": 10,
   "metadata": {
    "collapsed": false
   },
   "outputs": [
    {
     "data": {
      "text/plain": [
       "42"
      ]
     },
     "execution_count": 10,
     "metadata": {},
     "output_type": "execute_result"
    }
   ],
   "source": [
    "f2.result()"
   ]
  },
  {
   "cell_type": "code",
   "execution_count": 11,
   "metadata": {
    "collapsed": false
   },
   "outputs": [],
   "source": [
    "from time import sleep\n",
    "\n",
    "n_cores = sum(e.ncores().values())\n",
    "futures = e.map(sleep, [0.1] * (n_cores * 100), pure=False)\n",
    "progress(futures)"
   ]
  },
  {
   "cell_type": "code",
   "execution_count": 12,
   "metadata": {
    "collapsed": false
   },
   "outputs": [],
   "source": [
    "from sklearn.datasets import load_digits\n",
    "import numpy as np\n",
    "\n",
    "digits = load_digits()"
   ]
  },
  {
   "cell_type": "code",
   "execution_count": 16,
   "metadata": {
    "collapsed": false
   },
   "outputs": [
    {
     "data": {
      "image/png": "[encoded data removed]",
      "text/plain": [
       "<matplotlib.figure.Figure at 0x7f60701423c8>"
      ]
     },
     "metadata": {},
     "output_type": "display_data"
    }
   ],
   "source": [
    "%matplotlib inline\n",
    "import matplotlib.pyplot as plt\n",
    "\n",
    "plt.imshow(digits.data[35].reshape(8, 8),\n",
    "           interpolation='nearest', cmap='gray');"
   ]
  },
  {
   "cell_type": "code",
   "execution_count": 18,
   "metadata": {
    "collapsed": false
   },
   "outputs": [],
   "source": [
    "from sklearn.cross_validation import train_test_split\n",
    "\n",
    "\n",
    "def load_cv_split(split_idx):\n",
    "    data = load_digits()\n",
    "    splitted = train_test_split(data.data, data.target,\n",
    "                                test_size=0.20,\n",
    "                                random_state=split_idx)\n",
    "    return split_idx, splitted"
   ]
  },
  {
   "cell_type": "code",
   "execution_count": 19,
   "metadata": {
    "collapsed": false
   },
   "outputs": [],
   "source": [
    "from time import time\n",
    "from sklearn.externals.joblib import hash\n",
    "\n",
    "\n",
    "def evaluate_one(model_class, parameters, cv_split):\n",
    "    split_idx, (X_train, X_val, y_train, y_val) = cv_split\n",
    "    t0 = time()\n",
    "    model = model_class(**parameters).fit(X_train, y_train)\n",
    "    training_time = time() - t0\n",
    "\n",
    "    train_score = model.score(X_train, y_train)\n",
    "    validation_score = model.score(X_val, y_val)\n",
    "    \n",
    "    results = {\n",
    "        'split_idx': split_idx,\n",
    "        'training_time': training_time,\n",
    "        'train_score': train_score,\n",
    "        'val_score': validation_score,\n",
    "        'parameters': parameters,\n",
    "        'parameters_hash': hash(parameters),\n",
    "    }\n",
    "    return results"
   ]
  },
  {
   "cell_type": "code",
   "execution_count": 20,
   "metadata": {
    "collapsed": false
   },
   "outputs": [],
   "source": [
    "from dask import delayed\n",
    "from sklearn.svm import SVC\n",
    "from sklearn.grid_search import ParameterSampler\n",
    "import numpy as np\n",
    "\n",
    "param_grid = {\n",
    "    'C': np.logspace(-10, 10, 1001),\n",
    "    'gamma': np.logspace(-10, 10, 1001),\n",
    "    'tol': np.logspace(-4, -1, 4),\n",
    "}\n",
    "param_space = ParameterSampler(param_grid, n_cores * 10)\n",
    "\n",
    "cv_splits = [delayed(load_cv_split)(i) for i in range(3)]\n",
    "        \n",
    "delayed_evaluations = [delayed(evaluate_one)(SVC, params, split)\n",
    "                       for split in cv_splits\n",
    "                       for params in param_space]"
   ]
  },
  {
   "cell_type": "code",
   "execution_count": 21,
   "metadata": {
    "collapsed": false
   },
   "outputs": [
    {
     "data": {
      "text/plain": [
       "[Delayed('evaluate_one-329ed694-54a3-4939-89a8-e959a1525fdf'),\n",
       " Delayed('evaluate_one-73ccb900-cb7c-4ea2-b307-6c620395e8c5'),\n",
       " Delayed('evaluate_one-527263c3-f0fc-41e4-ab2e-ad52d502645d'),\n",
       " Delayed('evaluate_one-0c477da5-e6fa-4464-a922-c8c6ebd40748'),\n",
       " Delayed('evaluate_one-fa694581-ccbf-4497-85c2-2cc11e75779b')]"
      ]
     },
     "execution_count": 21,
     "metadata": {},
     "output_type": "execute_result"
    }
   ],
   "source": [
    "delayed_evaluations[:5]"
   ]
  },
  {
   "cell_type": "code",
   "execution_count": 22,
   "metadata": {
    "collapsed": false
   },
   "outputs": [
    {
     "data": {
      "text/plain": [
       "{'parameters': {'C': 2290.8676527677699,\n",
       "  'gamma': 9.1201083935590964e-08,\n",
       "  'tol': 0.001},\n",
       " 'parameters_hash': '32c77342ed4a93d68a1d02d9ecc1001d',\n",
       " 'split_idx': 0,\n",
       " 'train_score': 0.98469032707028536,\n",
       " 'training_time': 0.0822751522064209,\n",
       " 'val_score': 0.97777777777777775}"
      ]
     },
     "execution_count": 22,
     "metadata": {},
     "output_type": "execute_result"
    }
   ],
   "source": [
    "delayed_evaluations[0].compute()"
   ]
  },
  {
   "cell_type": "code",
   "execution_count": 23,
   "metadata": {
    "collapsed": true
   },
   "outputs": [],
   "source": [
    "all_results = e.compute(delayed_evaluations)"
   ]
  },
  {
   "cell_type": "code",
   "execution_count": 24,
   "metadata": {
    "collapsed": false
   },
   "outputs": [],
   "source": [
    "progress(all_results)"
   ]
  },
  {
   "cell_type": "code",
   "execution_count": 28,
   "metadata": {
    "collapsed": false
   },
   "outputs": [
    {
     "data": {
      "text/plain": [
       "2880"
      ]
     },
     "execution_count": 28,
     "metadata": {},
     "output_type": "execute_result"
    }
   ],
   "source": [
    "len([f for f in all_results if f.done()])"
   ]
  },
  {
   "cell_type": "code",
   "execution_count": 29,
   "metadata": {
    "collapsed": false
   },
   "outputs": [
    {
     "data": {
      "text/html": [
       "<div>\n",
       "<table border=\"1\" class=\"dataframe\">\n",
       "  <thead>\n",
       "    <tr style=\"text-align: right;\">\n",
       "      <th></th>\n",
       "      <th>split_idx</th>\n",
       "      <th>train_score</th>\n",
       "      <th>training_time</th>\n",
       "      <th>val_score</th>\n",
       "    </tr>\n",
       "  </thead>\n",
       "  <tbody>\n",
       "    <tr>\n",
       "      <th>count</th>\n",
       "      <td>2880.000000</td>\n",
       "      <td>2880.000000</td>\n",
       "      <td>2880.000000</td>\n",
       "      <td>2880.000000</td>\n",
       "    </tr>\n",
       "    <tr>\n",
       "      <th>mean</th>\n",
       "      <td>1.000000</td>\n",
       "      <td>0.545461</td>\n",
       "      <td>0.594582</td>\n",
       "      <td>0.254412</td>\n",
       "    </tr>\n",
       "    <tr>\n",
       "      <th>std</th>\n",
       "      <td>0.816638</td>\n",
       "      <td>0.444052</td>\n",
       "      <td>0.221165</td>\n",
       "      <td>0.349048</td>\n",
       "    </tr>\n",
       "    <tr>\n",
       "      <th>min</th>\n",
       "      <td>0.000000</td>\n",
       "      <td>0.105776</td>\n",
       "      <td>0.060875</td>\n",
       "      <td>0.077778</td>\n",
       "    </tr>\n",
       "    <tr>\n",
       "      <th>25%</th>\n",
       "      <td>0.000000</td>\n",
       "      <td>0.105776</td>\n",
       "      <td>0.589693</td>\n",
       "      <td>0.077778</td>\n",
       "    </tr>\n",
       "    <tr>\n",
       "      <th>50%</th>\n",
       "      <td>1.000000</td>\n",
       "      <td>0.107168</td>\n",
       "      <td>0.651569</td>\n",
       "      <td>0.080556</td>\n",
       "    </tr>\n",
       "    <tr>\n",
       "      <th>75%</th>\n",
       "      <td>2.000000</td>\n",
       "      <td>1.000000</td>\n",
       "      <td>0.712650</td>\n",
       "      <td>0.083333</td>\n",
       "    </tr>\n",
       "    <tr>\n",
       "      <th>max</th>\n",
       "      <td>2.000000</td>\n",
       "      <td>1.000000</td>\n",
       "      <td>1.289349</td>\n",
       "      <td>0.994444</td>\n",
       "    </tr>\n",
       "  </tbody>\n",
       "</table>\n",
       "</div>"
      ],
      "text/plain": [
       "         split_idx  train_score  training_time    val_score\n",
       "count  2880.000000  2880.000000    2880.000000  2880.000000\n",
       "mean      1.000000     0.545461       0.594582     0.254412\n",
       "std       0.816638     0.444052       0.221165     0.349048\n",
       "min       0.000000     0.105776       0.060875     0.077778\n",
       "25%       0.000000     0.105776       0.589693     0.077778\n",
       "50%       1.000000     0.107168       0.651569     0.080556\n",
       "75%       2.000000     1.000000       0.712650     0.083333\n",
       "max       2.000000     1.000000       1.289349     0.994444"
      ]
     },
     "execution_count": 29,
     "metadata": {},
     "output_type": "execute_result"
    }
   ],
   "source": [
    "import pandas as pd\n",
    "results = e.gather([f for f in all_results if f.done()])\n",
    "results = pd.DataFrame.from_dict(results)\n",
    "results.describe()"
   ]
  },
  {
   "cell_type": "code",
   "execution_count": 30,
   "metadata": {
    "collapsed": false
   },
   "outputs": [
    {
     "data": {
      "image/png": "[encoded data removed]",
      "text/plain": [
       "<matplotlib.figure.Figure at 0x7f5fe3c1da58>"
      ]
     },
     "metadata": {},
     "output_type": "display_data"
    }
   ],
   "source": [
    "plt.figure(figsize=(8, 2))\n",
    "bins = np.linspace(0, 1, 100)\n",
    "results['val_score'].plot(kind='hist', bins=bins);"
   ]
  },
  {
   "cell_type": "code",
   "execution_count": 31,
   "metadata": {
    "collapsed": false
   },
   "outputs": [
    {
     "data": {
      "image/png": "[encoded data removed]",
      "text/plain": [
       "<matplotlib.figure.Figure at 0x7f5fe3962eb8>"
      ]
     },
     "metadata": {},
     "output_type": "display_data"
    }
   ],
   "source": [
    "plt.figure(figsize=(8, 2))\n",
    "results['train_score'].plot.hist(bins=bins);"
   ]
  },
  {
   "cell_type": "code",
   "execution_count": 32,
   "metadata": {
    "collapsed": false
   },
   "outputs": [
    {
     "data": {
      "text/html": [
       "<div>\n",
       "<table border=\"1\" class=\"dataframe\">\n",
       "  <thead>\n",
       "    <tr style=\"text-align: right;\">\n",
       "      <th></th>\n",
       "      <th>parameters_hash</th>\n",
       "      <th>train_score</th>\n",
       "      <th>val_score</th>\n",
       "      <th>training_time</th>\n",
       "    </tr>\n",
       "  </thead>\n",
       "  <tbody>\n",
       "    <tr>\n",
       "      <th>0</th>\n",
       "      <td>0027022440edcd2f64f3d1a6a20aa323</td>\n",
       "      <td>1.000000</td>\n",
       "      <td>0.744444</td>\n",
       "      <td>0.823555</td>\n",
       "    </tr>\n",
       "    <tr>\n",
       "      <th>1</th>\n",
       "      <td>00463b3b6630725e10bca0f12fafa360</td>\n",
       "      <td>0.107168</td>\n",
       "      <td>0.080556</td>\n",
       "      <td>0.747670</td>\n",
       "    </tr>\n",
       "    <tr>\n",
       "      <th>2</th>\n",
       "      <td>004c553aad5a2cc22542a6ed0fecd25a</td>\n",
       "      <td>0.979819</td>\n",
       "      <td>0.977778</td>\n",
       "      <td>0.238109</td>\n",
       "    </tr>\n",
       "    <tr>\n",
       "      <th>3</th>\n",
       "      <td>005ab8ac995335084fc80e61afa403e9</td>\n",
       "      <td>1.000000</td>\n",
       "      <td>0.077778</td>\n",
       "      <td>0.763621</td>\n",
       "    </tr>\n",
       "    <tr>\n",
       "      <th>4</th>\n",
       "      <td>006bb05b124e85b9005509495d201b1a</td>\n",
       "      <td>0.107168</td>\n",
       "      <td>0.080556</td>\n",
       "      <td>0.641791</td>\n",
       "    </tr>\n",
       "  </tbody>\n",
       "</table>\n",
       "</div>"
      ],
      "text/plain": [
       "                    parameters_hash  train_score  val_score  training_time\n",
       "0  0027022440edcd2f64f3d1a6a20aa323     1.000000   0.744444       0.823555\n",
       "1  00463b3b6630725e10bca0f12fafa360     0.107168   0.080556       0.747670\n",
       "2  004c553aad5a2cc22542a6ed0fecd25a     0.979819   0.977778       0.238109\n",
       "3  005ab8ac995335084fc80e61afa403e9     1.000000   0.077778       0.763621\n",
       "4  006bb05b124e85b9005509495d201b1a     0.107168   0.080556       0.641791"
      ]
     },
     "execution_count": 32,
     "metadata": {},
     "output_type": "execute_result"
    }
   ],
   "source": [
    "from joblib import hash\n",
    "\n",
    "mean_evaluations = results.groupby('parameters_hash').agg({\n",
    "    'train_score': np.mean,\n",
    "    'val_score': np.mean,\n",
    "    'training_time': np.mean,\n",
    "}).reset_index()\n",
    "\n",
    "mean_evaluations.head(5)"
   ]
  },
  {
   "cell_type": "code",
   "execution_count": 33,
   "metadata": {
    "collapsed": false
   },
   "outputs": [],
   "source": [
    "all_parameters = pd.DataFrame.from_dict(list(results['parameters']))\n",
    "all_parameters['parameters_hash'] = results['parameters_hash']\n",
    "\n",
    "evaluations = (\n",
    "    mean_evaluations\n",
    "    .merge(all_parameters)\n",
    "    .drop(['parameters_hash'], axis=1)\n",
    ")"
   ]
  },
  {
   "cell_type": "code",
   "execution_count": 34,
   "metadata": {
    "collapsed": false
   },
   "outputs": [
    {
     "data": {
      "text/html": [
       "<div>\n",
       "<table border=\"1\" class=\"dataframe\">\n",
       "  <thead>\n",
       "    <tr style=\"text-align: right;\">\n",
       "      <th></th>\n",
       "      <th>train_score</th>\n",
       "      <th>val_score</th>\n",
       "      <th>training_time</th>\n",
       "      <th>C</th>\n",
       "      <th>gamma</th>\n",
       "      <th>tol</th>\n",
       "    </tr>\n",
       "  </thead>\n",
       "  <tbody>\n",
       "    <tr>\n",
       "      <th>1967</th>\n",
       "      <td>0.997912</td>\n",
       "      <td>0.994444</td>\n",
       "      <td>0.191686</td>\n",
       "      <td>6.606934e-01</td>\n",
       "      <td>9.120108e-04</td>\n",
       "      <td>0.0100</td>\n",
       "    </tr>\n",
       "    <tr>\n",
       "      <th>2047</th>\n",
       "      <td>0.993737</td>\n",
       "      <td>0.994444</td>\n",
       "      <td>0.265911</td>\n",
       "      <td>3.467369e-01</td>\n",
       "      <td>1.047129e-03</td>\n",
       "      <td>0.0001</td>\n",
       "    </tr>\n",
       "    <tr>\n",
       "      <th>1099</th>\n",
       "      <td>0.999304</td>\n",
       "      <td>0.994444</td>\n",
       "      <td>0.222865</td>\n",
       "      <td>9.549926e-01</td>\n",
       "      <td>1.445440e-03</td>\n",
       "      <td>0.1000</td>\n",
       "    </tr>\n",
       "    <tr>\n",
       "      <th>1683</th>\n",
       "      <td>0.999304</td>\n",
       "      <td>0.994444</td>\n",
       "      <td>0.249131</td>\n",
       "      <td>1.000000e+00</td>\n",
       "      <td>1.318257e-03</td>\n",
       "      <td>0.0001</td>\n",
       "    </tr>\n",
       "    <tr>\n",
       "      <th>999</th>\n",
       "      <td>0.988866</td>\n",
       "      <td>0.991667</td>\n",
       "      <td>0.092361</td>\n",
       "      <td>1.380384e+02</td>\n",
       "      <td>3.801894e-06</td>\n",
       "      <td>0.0100</td>\n",
       "    </tr>\n",
       "    <tr>\n",
       "      <th>1605</th>\n",
       "      <td>1.000000</td>\n",
       "      <td>0.991667</td>\n",
       "      <td>0.095041</td>\n",
       "      <td>6.606934e+06</td>\n",
       "      <td>6.025596e-08</td>\n",
       "      <td>0.0001</td>\n",
       "    </tr>\n",
       "    <tr>\n",
       "      <th>2442</th>\n",
       "      <td>0.995129</td>\n",
       "      <td>0.991667</td>\n",
       "      <td>0.114434</td>\n",
       "      <td>6.606934e+00</td>\n",
       "      <td>1.148154e-04</td>\n",
       "      <td>0.0001</td>\n",
       "    </tr>\n",
       "    <tr>\n",
       "      <th>2296</th>\n",
       "      <td>1.000000</td>\n",
       "      <td>0.991667</td>\n",
       "      <td>0.182144</td>\n",
       "      <td>7.585776e+03</td>\n",
       "      <td>6.025596e-04</td>\n",
       "      <td>0.0001</td>\n",
       "    </tr>\n",
       "    <tr>\n",
       "      <th>2765</th>\n",
       "      <td>1.000000</td>\n",
       "      <td>0.991667</td>\n",
       "      <td>0.067027</td>\n",
       "      <td>1.819701e+06</td>\n",
       "      <td>2.884032e-07</td>\n",
       "      <td>0.1000</td>\n",
       "    </tr>\n",
       "    <tr>\n",
       "      <th>829</th>\n",
       "      <td>1.000000</td>\n",
       "      <td>0.991667</td>\n",
       "      <td>0.168076</td>\n",
       "      <td>8.317638e+09</td>\n",
       "      <td>1.318257e-08</td>\n",
       "      <td>0.0010</td>\n",
       "    </tr>\n",
       "  </tbody>\n",
       "</table>\n",
       "</div>"
      ],
      "text/plain": [
       "      train_score  val_score  training_time             C         gamma  \\\n",
       "1967     0.997912   0.994444       0.191686  6.606934e-01  9.120108e-04   \n",
       "2047     0.993737   0.994444       0.265911  3.467369e-01  1.047129e-03   \n",
       "1099     0.999304   0.994444       0.222865  9.549926e-01  1.445440e-03   \n",
       "1683     0.999304   0.994444       0.249131  1.000000e+00  1.318257e-03   \n",
       "999      0.988866   0.991667       0.092361  1.380384e+02  3.801894e-06   \n",
       "1605     1.000000   0.991667       0.095041  6.606934e+06  6.025596e-08   \n",
       "2442     0.995129   0.991667       0.114434  6.606934e+00  1.148154e-04   \n",
       "2296     1.000000   0.991667       0.182144  7.585776e+03  6.025596e-04   \n",
       "2765     1.000000   0.991667       0.067027  1.819701e+06  2.884032e-07   \n",
       "829      1.000000   0.991667       0.168076  8.317638e+09  1.318257e-08   \n",
       "\n",
       "         tol  \n",
       "1967  0.0100  \n",
       "2047  0.0001  \n",
       "1099  0.1000  \n",
       "1683  0.0001  \n",
       "999   0.0100  \n",
       "1605  0.0001  \n",
       "2442  0.0001  \n",
       "2296  0.0001  \n",
       "2765  0.1000  \n",
       "829   0.0010  "
      ]
     },
     "execution_count": 34,
     "metadata": {},
     "output_type": "execute_result"
    }
   ],
   "source": [
    "top10 = evaluations.sort_values(\n",
    "    by='val_score', ascending=False).head(10)\n",
    "top10"
   ]
  },
  {
   "cell_type": "code",
   "execution_count": 35,
   "metadata": {
    "collapsed": false
   },
   "outputs": [
    {
     "data": {
      "image/png": "[encoded data removed]",
      "text/plain": [
       "<matplotlib.figure.Figure at 0x7f5fe35eca58>"
      ]
     },
     "metadata": {},
     "output_type": "display_data"
    }
   ],
   "source": [
    "import matplotlib.pyplot as plt\n",
    "\n",
    "def plot_param_map(df, target, title):\n",
    "    plt.xlabel('log10(C)')\n",
    "    plt.ylabel('log10(gamma)')\n",
    "    plt.xlim(-10, 10)\n",
    "    plt.ylim(-10, 10)\n",
    "    plt.scatter(np.log10(df['C']), np.log10(df['gamma']),\n",
    "                c=target,\n",
    "                marker='s', edgecolors='none',\n",
    "                s=80, alpha=1, cmap='viridis')\n",
    "    plt.colorbar()\n",
    "    plt.title(title)\n",
    "\n",
    "plt.figure(figsize=(6, 5))\n",
    "plot_param_map(evaluations, evaluations['val_score'],\n",
    "               'validation score')\n",
    "plt.scatter(np.log10(top10['C']), np.log10(top10['gamma']),\n",
    "            c='r', s=50);"
   ]
  },
  {
   "cell_type": "code",
   "execution_count": 36,
   "metadata": {
    "collapsed": false
   },
   "outputs": [
    {
     "data": {
      "image/png": "[encoded data removed]",
      "text/plain": [
       "<matplotlib.figure.Figure at 0x7f5fe35d9da0>"
      ]
     },
     "metadata": {},
     "output_type": "display_data"
    }
   ],
   "source": [
    "plt.figure(figsize=(6, 5))\n",
    "plot_param_map(evaluations, evaluations['train_score'], 'train score')"
   ]
  },
  {
   "cell_type": "code",
   "execution_count": 37,
   "metadata": {
    "collapsed": false
   },
   "outputs": [
    {
     "data": {
      "image/png": "[encoded data removed]",
      "text/plain": [
       "<matplotlib.figure.Figure at 0x7f5fe34d0128>"
      ]
     },
     "metadata": {},
     "output_type": "display_data"
    }
   ],
   "source": [
    "plt.figure(figsize=(6, 5))\n",
    "gap = evaluations['train_score'] - evaluations['val_score']\n",
    "plot_param_map(evaluations, gap, 'gap')"
   ]
  },
  {
   "cell_type": "code",
   "execution_count": 38,
   "metadata": {
    "collapsed": false
   },
   "outputs": [
    {
     "data": {
      "image/png": "[encoded data removed]",
      "text/plain": [
       "<matplotlib.figure.Figure at 0x7f5fe34eba20>"
      ]
     },
     "metadata": {},
     "output_type": "display_data"
    }
   ],
   "source": [
    "plt.figure(figsize=(6, 5))\n",
    "high_tol = evaluations[evaluations['tol'] == 0.1]\n",
    "\n",
    "plot_param_map(high_tol, high_tol['training_time'], 'training time (s)')\n",
    "plt.scatter(np.log10(top10['C']), np.log10(top10['gamma']),\n",
    "            c='r', s=50);"
   ]
  },
  {
   "cell_type": "markdown",
   "metadata": {},
   "source": [
    "## Scaling down"
   ]
  },
  {
   "cell_type": "markdown",
   "metadata": {},
   "source": [
    "### Distributed cluster"
   ]
  },
  {
   "cell_type": "code",
   "execution_count": 39,
   "metadata": {
    "collapsed": false
   },
   "outputs": [
    {
     "name": "stdout",
     "output_type": "stream",
     "text": [
      "CPU times: user 24 ms, sys: 0 ns, total: 24 ms\n",
      "Wall time: 986 ms\n"
     ]
    }
   ],
   "source": [
    "import dask\n",
    "\n",
    "%time _ = dask.compute(*delayed_evaluations[:10], get=e.get)"
   ]
  },
  {
   "cell_type": "markdown",
   "metadata": {},
   "source": [
    "### Single host, local python process, multiple threads"
   ]
  },
  {
   "cell_type": "code",
   "execution_count": 40,
   "metadata": {
    "collapsed": false
   },
   "outputs": [
    {
     "name": "stdout",
     "output_type": "stream",
     "text": [
      "CPU times: user 5.3 s, sys: 52 ms, total: 5.35 s\n",
      "Wall time: 970 ms\n"
     ]
    }
   ],
   "source": [
    "%time _ = dask.compute(*delayed_evaluations[:10])"
   ]
  },
  {
   "cell_type": "markdown",
   "metadata": {},
   "source": [
    "### Single host, local python process, no parallelism"
   ]
  },
  {
   "cell_type": "code",
   "execution_count": 41,
   "metadata": {
    "collapsed": false
   },
   "outputs": [
    {
     "name": "stdout",
     "output_type": "stream",
     "text": [
      "CPU times: user 5.3 s, sys: 0 ns, total: 5.3 s\n",
      "Wall time: 5.26 s\n"
     ]
    }
   ],
   "source": [
    "from dask.async import get_sync\n",
    "\n",
    "%time _ = dask.compute(*delayed_evaluations[:10], get=get_sync)"
   ]
  },
  {
   "cell_type": "code",
   "execution_count": 42,
   "metadata": {
    "collapsed": false
   },
   "outputs": [
    {
     "name": "stdout",
     "output_type": "stream",
     "text": [
      " "
     ]
    }
   ],
   "source": [
    "%prun _ = dask.compute(*delayed_evaluations[:10], get=get_sync)"
   ]
  },
  {
   "cell_type": "code",
   "execution_count": null,
   "metadata": {
    "collapsed": true
   },
   "outputs": [],
   "source": []
  }
 ],
 "metadata": {
  "kernelspec": {
   "display_name": "Python 3",
   "language": "python",
   "name": "python3"
  },
  "language_info": {
   "codemirror_mode": {
    "name": "ipython",
    "version": 3
   },
   "file_extension": ".py",
   "mimetype": "text/x-python",
   "name": "python",
   "nbconvert_exporter": "python",
   "pygments_lexer": "ipython3",
   "version": "3.5.1"
  }
 },
 "nbformat": 4,
 "nbformat_minor": 0
}
