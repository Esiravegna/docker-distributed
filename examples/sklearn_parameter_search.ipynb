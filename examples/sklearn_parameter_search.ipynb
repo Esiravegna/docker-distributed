{
 "cells": [
  {
   "cell_type": "code",
   "execution_count": 1,
   "metadata": {
    "collapsed": true
   },
   "outputs": [],
   "source": [
    "from distributed import Executor, progress"
   ]
  },
  {
   "cell_type": "code",
   "execution_count": 3,
   "metadata": {
    "collapsed": false
   },
   "outputs": [],
   "source": [
    "e = Executor('dscheduler:8786')"
   ]
  },
  {
   "cell_type": "code",
   "execution_count": 4,
   "metadata": {
    "collapsed": false
   },
   "outputs": [
    {
     "data": {
      "text/plain": [
       "<Executor: scheduler=dscheduler:8786 processes=3 cores=96>"
      ]
     },
     "execution_count": 4,
     "metadata": {},
     "output_type": "execute_result"
    }
   ],
   "source": [
    "e.restart()"
   ]
  },
  {
   "cell_type": "code",
   "execution_count": 5,
   "metadata": {
    "collapsed": false
   },
   "outputs": [
    {
     "data": {
      "text/plain": [
       "0"
      ]
     },
     "execution_count": 5,
     "metadata": {},
     "output_type": "execute_result"
    }
   ],
   "source": [
    "import subprocess\n",
    "\n",
    "\n",
    "def install_libs():\n",
    "    libs = 'scikit-learn pandas matplotlib'.split()\n",
    "    return subprocess.check_call('conda install -yq'.split() + libs)\n",
    "\n",
    "install_libs()"
   ]
  },
  {
   "cell_type": "code",
   "execution_count": 6,
   "metadata": {
    "collapsed": false
   },
   "outputs": [
    {
     "data": {
      "text/plain": [
       "{'10.112.0.5:51474': 0, '10.112.1.5:40343': 0, '10.112.2.3:40134': 0}"
      ]
     },
     "execution_count": 6,
     "metadata": {},
     "output_type": "execute_result"
    }
   ],
   "source": [
    "e.run(install_libs)"
   ]
  },
  {
   "cell_type": "markdown",
   "metadata": {},
   "source": [
    "## The distributed.Executor API"
   ]
  },
  {
   "cell_type": "code",
   "execution_count": 7,
   "metadata": {
    "collapsed": false
   },
   "outputs": [],
   "source": [
    "def my_add(a, b):\n",
    "    return a + b\n",
    "\n",
    "f1 = e.submit(my_add, 1, 2)"
   ]
  },
  {
   "cell_type": "code",
   "execution_count": 8,
   "metadata": {
    "collapsed": false
   },
   "outputs": [
    {
     "data": {
      "text/plain": [
       "<Future: status: finished, type: int, key: my_add-df74d51e74b6ca08d254db0f26dac8cc>"
      ]
     },
     "execution_count": 8,
     "metadata": {},
     "output_type": "execute_result"
    }
   ],
   "source": [
    "f1"
   ]
  },
  {
   "cell_type": "code",
   "execution_count": 10,
   "metadata": {
    "collapsed": false
   },
   "outputs": [
    {
     "data": {
      "text/plain": [
       "True"
      ]
     },
     "execution_count": 10,
     "metadata": {},
     "output_type": "execute_result"
    }
   ],
   "source": [
    "f1.done()"
   ]
  },
  {
   "cell_type": "code",
   "execution_count": 9,
   "metadata": {
    "collapsed": false
   },
   "outputs": [
    {
     "data": {
      "text/plain": [
       "3"
      ]
     },
     "execution_count": 9,
     "metadata": {},
     "output_type": "execute_result"
    }
   ],
   "source": [
    "f1.result()"
   ]
  },
  {
   "cell_type": "code",
   "execution_count": 11,
   "metadata": {
    "collapsed": false
   },
   "outputs": [],
   "source": [
    "f2 = e.submit(my_add, f1, 39)"
   ]
  },
  {
   "cell_type": "code",
   "execution_count": 12,
   "metadata": {
    "collapsed": false
   },
   "outputs": [
    {
     "data": {
      "text/plain": [
       "42"
      ]
     },
     "execution_count": 12,
     "metadata": {},
     "output_type": "execute_result"
    }
   ],
   "source": [
    "f2.result()"
   ]
  },
  {
   "cell_type": "code",
   "execution_count": 13,
   "metadata": {
    "collapsed": false
   },
   "outputs": [],
   "source": [
    "from time import sleep\n",
    "\n",
    "n_cores = sum(e.ncores().values())\n",
    "sleep_durations = [0.1] * (n_cores * 100)\n",
    "\n",
    "futures = e.map(sleep, sleep_durations, pure=False)\n",
    "progress(futures)"
   ]
  },
  {
   "cell_type": "markdown",
   "metadata": {},
   "source": [
    "## Hyperparameter search for sklearn"
   ]
  },
  {
   "cell_type": "code",
   "execution_count": 14,
   "metadata": {
    "collapsed": false
   },
   "outputs": [],
   "source": [
    "from sklearn.datasets import load_digits\n",
    "import numpy as np\n",
    "\n",
    "digits = load_digits()"
   ]
  },
  {
   "cell_type": "code",
   "execution_count": 17,
   "metadata": {
    "collapsed": false
   },
   "outputs": [
    {
     "data": {
      "image/png": "[encoded data removed]",
      "text/plain": [
       "<matplotlib.figure.Figure at 0x7fa6880bf4e0>"
      ]
     },
     "metadata": {},
     "output_type": "display_data"
    }
   ],
   "source": [
    "%matplotlib inline\n",
    "import matplotlib.pyplot as plt\n",
    "\n",
    "plt.imshow(digits.data[35].reshape(8, 8),\n",
    "           interpolation='nearest', cmap='gray');"
   ]
  },
  {
   "cell_type": "markdown",
   "metadata": {},
   "source": [
    "### Sequential random parameter search"
   ]
  },
  {
   "cell_type": "code",
   "execution_count": 18,
   "metadata": {
    "collapsed": false
   },
   "outputs": [],
   "source": [
    "from sklearn.cross_validation import train_test_split\n",
    "\n",
    "\n",
    "def load_cv_split(split_idx):\n",
    "    data = load_digits()\n",
    "    splitted = train_test_split(data.data, data.target,\n",
    "                                test_size=0.20,\n",
    "                                random_state=split_idx)\n",
    "    return split_idx, splitted"
   ]
  },
  {
   "cell_type": "code",
   "execution_count": 19,
   "metadata": {
    "collapsed": false
   },
   "outputs": [],
   "source": [
    "from time import time\n",
    "from sklearn.externals.joblib import hash\n",
    "\n",
    "\n",
    "def evaluate_one(model_class, parameters, cv_split):\n",
    "    split_idx, (X_train, X_val, y_train, y_val) = cv_split\n",
    "    t0 = time()\n",
    "    model = model_class(**parameters).fit(X_train, y_train)\n",
    "    training_time = time() - t0\n",
    "\n",
    "    train_score = model.score(X_train, y_train)\n",
    "    validation_score = model.score(X_val, y_val)\n",
    "    \n",
    "    results = {\n",
    "        'split_idx': split_idx,\n",
    "        'training_time': training_time,\n",
    "        'train_score': train_score,\n",
    "        'val_score': validation_score,\n",
    "        'parameters': parameters,\n",
    "        'parameters_hash': hash(parameters),\n",
    "    }\n",
    "    return results"
   ]
  },
  {
   "cell_type": "code",
   "execution_count": 20,
   "metadata": {
    "collapsed": false
   },
   "outputs": [
    {
     "name": "stdout",
     "output_type": "stream",
     "text": [
      "CPU times: user 4.45 s, sys: 32 ms, total: 4.48 s\n",
      "Wall time: 4.47 s\n"
     ]
    }
   ],
   "source": [
    "%%time\n",
    "from sklearn.svm import SVC\n",
    "from sklearn.grid_search import ParameterSampler\n",
    "import numpy as np\n",
    "import pandas as pd\n",
    "\n",
    "param_grid = {\n",
    "    'C': np.logspace(-10, 10, 1001),\n",
    "    'gamma': np.logspace(-10, 10, 1001),\n",
    "    'tol': np.logspace(-4, -1, 4),\n",
    "}\n",
    "\n",
    "param_space = ParameterSampler(param_grid, 3)\n",
    "\n",
    "cv_splits = [load_cv_split(i) for i in range(2)]\n",
    "\n",
    "results = [evaluate_one(SVC, params, split)\n",
    "           for split in cv_splits\n",
    "           for params in param_space]"
   ]
  },
  {
   "cell_type": "code",
   "execution_count": 21,
   "metadata": {
    "collapsed": false
   },
   "outputs": [
    {
     "data": {
      "text/html": [
       "<div>\n",
       "<table border=\"1\" class=\"dataframe\">\n",
       "  <thead>\n",
       "    <tr style=\"text-align: right;\">\n",
       "      <th></th>\n",
       "      <th>parameters</th>\n",
       "      <th>split_idx</th>\n",
       "      <th>train_score</th>\n",
       "      <th>training_time</th>\n",
       "      <th>val_score</th>\n",
       "    </tr>\n",
       "  </thead>\n",
       "  <tbody>\n",
       "    <tr>\n",
       "      <th>0</th>\n",
       "      <td>{'gamma': 87096.3589956, 'tol': 0.001, 'C': 75...</td>\n",
       "      <td>0</td>\n",
       "      <td>1.000000</td>\n",
       "      <td>0.444255</td>\n",
       "      <td>0.080556</td>\n",
       "    </tr>\n",
       "    <tr>\n",
       "      <th>1</th>\n",
       "      <td>{'gamma': 870963.589956, 'tol': 0.001, 'C': 3....</td>\n",
       "      <td>0</td>\n",
       "      <td>0.107168</td>\n",
       "      <td>0.398670</td>\n",
       "      <td>0.080556</td>\n",
       "    </tr>\n",
       "    <tr>\n",
       "      <th>2</th>\n",
       "      <td>{'gamma': 0.00041686938347, 'tol': 0.1, 'C': 1...</td>\n",
       "      <td>0</td>\n",
       "      <td>0.107168</td>\n",
       "      <td>0.460054</td>\n",
       "      <td>0.080556</td>\n",
       "    </tr>\n",
       "    <tr>\n",
       "      <th>3</th>\n",
       "      <td>{'gamma': 4.3651583224e-06, 'tol': 0.1, 'C': 0...</td>\n",
       "      <td>1</td>\n",
       "      <td>0.105776</td>\n",
       "      <td>0.473386</td>\n",
       "      <td>0.083333</td>\n",
       "    </tr>\n",
       "    <tr>\n",
       "      <th>4</th>\n",
       "      <td>{'gamma': 104.712854805, 'tol': 0.1, 'C': 0.01...</td>\n",
       "      <td>1</td>\n",
       "      <td>0.105776</td>\n",
       "      <td>0.388182</td>\n",
       "      <td>0.083333</td>\n",
       "    </tr>\n",
       "    <tr>\n",
       "      <th>5</th>\n",
       "      <td>{'gamma': 1659586907.44, 'tol': 0.1, 'C': 2089...</td>\n",
       "      <td>1</td>\n",
       "      <td>1.000000</td>\n",
       "      <td>0.401693</td>\n",
       "      <td>0.083333</td>\n",
       "    </tr>\n",
       "  </tbody>\n",
       "</table>\n",
       "</div>"
      ],
      "text/plain": [
       "                                          parameters  split_idx  train_score  \\\n",
       "0  {'gamma': 87096.3589956, 'tol': 0.001, 'C': 75...          0     1.000000   \n",
       "1  {'gamma': 870963.589956, 'tol': 0.001, 'C': 3....          0     0.107168   \n",
       "2  {'gamma': 0.00041686938347, 'tol': 0.1, 'C': 1...          0     0.107168   \n",
       "3  {'gamma': 4.3651583224e-06, 'tol': 0.1, 'C': 0...          1     0.105776   \n",
       "4  {'gamma': 104.712854805, 'tol': 0.1, 'C': 0.01...          1     0.105776   \n",
       "5  {'gamma': 1659586907.44, 'tol': 0.1, 'C': 2089...          1     1.000000   \n",
       "\n",
       "   training_time  val_score  \n",
       "0       0.444255   0.080556  \n",
       "1       0.398670   0.080556  \n",
       "2       0.460054   0.080556  \n",
       "3       0.473386   0.083333  \n",
       "4       0.388182   0.083333  \n",
       "5       0.401693   0.083333  "
      ]
     },
     "execution_count": 21,
     "metadata": {},
     "output_type": "execute_result"
    }
   ],
   "source": [
    "pd.DataFrame.from_dict(results).drop('parameters_hash', 1)"
   ]
  },
  {
   "cell_type": "markdown",
   "metadata": {},
   "source": [
    "### Scaling up with multi-threaded dask"
   ]
  },
  {
   "cell_type": "code",
   "execution_count": 22,
   "metadata": {
    "collapsed": true
   },
   "outputs": [],
   "source": [
    "from dask import delayed, compute\n",
    "\n",
    "param_space = ParameterSampler(param_grid, 3)\n",
    "\n",
    "cv_splits = [delayed(load_cv_split)(i) for i in range(2)]\n",
    "        \n",
    "delayed_evaluations = [delayed(evaluate_one)(SVC, params, split)\n",
    "                       for split in cv_splits\n",
    "                       for params in param_space]"
   ]
  },
  {
   "cell_type": "code",
   "execution_count": 23,
   "metadata": {
    "collapsed": false
   },
   "outputs": [
    {
     "data": {
      "text/plain": [
       "[Delayed('evaluate_one-4aeff320-14ad-4187-9fa2-e9a28fdb7f7e'),\n",
       " Delayed('evaluate_one-55ee2317-7777-46fc-b8cd-e66b3996d720'),\n",
       " Delayed('evaluate_one-3bcd3e7f-3e08-40d2-b25d-98706faa32d7'),\n",
       " Delayed('evaluate_one-a1e5364a-d0a2-4431-8b98-449487e2c85a'),\n",
       " Delayed('evaluate_one-d465f5d4-b486-49f4-94e7-09afd727341e'),\n",
       " Delayed('evaluate_one-6cb9c4d6-647e-4f35-b4d0-c70e35c07b00')]"
      ]
     },
     "execution_count": 23,
     "metadata": {},
     "output_type": "execute_result"
    }
   ],
   "source": [
    "delayed_evaluations"
   ]
  },
  {
   "cell_type": "code",
   "execution_count": 24,
   "metadata": {
    "collapsed": false
   },
   "outputs": [
    {
     "name": "stdout",
     "output_type": "stream",
     "text": [
      "CPU times: user 3.96 s, sys: 32 ms, total: 3.99 s\n",
      "Wall time: 1.07 s\n"
     ]
    }
   ],
   "source": [
    "%time results = compute(*delayed_evaluations)"
   ]
  },
  {
   "cell_type": "code",
   "execution_count": 25,
   "metadata": {
    "collapsed": false
   },
   "outputs": [
    {
     "data": {
      "text/html": [
       "<div>\n",
       "<table border=\"1\" class=\"dataframe\">\n",
       "  <thead>\n",
       "    <tr style=\"text-align: right;\">\n",
       "      <th></th>\n",
       "      <th>parameters</th>\n",
       "      <th>split_idx</th>\n",
       "      <th>train_score</th>\n",
       "      <th>training_time</th>\n",
       "      <th>val_score</th>\n",
       "    </tr>\n",
       "  </thead>\n",
       "  <tbody>\n",
       "    <tr>\n",
       "      <th>0</th>\n",
       "      <td>{'tol': 0.1, 'gamma': 4786.30092323, 'C': 16.5...</td>\n",
       "      <td>0</td>\n",
       "      <td>1.000000</td>\n",
       "      <td>0.398743</td>\n",
       "      <td>0.080556</td>\n",
       "    </tr>\n",
       "    <tr>\n",
       "      <th>1</th>\n",
       "      <td>{'tol': 0.01, 'gamma': 1737800.82875, 'C': 1.1...</td>\n",
       "      <td>0</td>\n",
       "      <td>0.107168</td>\n",
       "      <td>0.398817</td>\n",
       "      <td>0.080556</td>\n",
       "    </tr>\n",
       "    <tr>\n",
       "      <th>2</th>\n",
       "      <td>{'tol': 0.001, 'gamma': 79432823.4724, 'C': 1....</td>\n",
       "      <td>0</td>\n",
       "      <td>1.000000</td>\n",
       "      <td>0.457986</td>\n",
       "      <td>0.080556</td>\n",
       "    </tr>\n",
       "    <tr>\n",
       "      <th>3</th>\n",
       "      <td>{'tol': 0.01, 'gamma': 0.00026302679919, 'C': ...</td>\n",
       "      <td>1</td>\n",
       "      <td>1.000000</td>\n",
       "      <td>0.066592</td>\n",
       "      <td>0.988889</td>\n",
       "    </tr>\n",
       "    <tr>\n",
       "      <th>4</th>\n",
       "      <td>{'tol': 0.0001, 'gamma': 3.16227766017, 'C': 6...</td>\n",
       "      <td>1</td>\n",
       "      <td>1.000000</td>\n",
       "      <td>0.493497</td>\n",
       "      <td>0.083333</td>\n",
       "    </tr>\n",
       "    <tr>\n",
       "      <th>5</th>\n",
       "      <td>{'tol': 0.01, 'gamma': 1.51356124844e-08, 'C':...</td>\n",
       "      <td>1</td>\n",
       "      <td>0.105776</td>\n",
       "      <td>0.473631</td>\n",
       "      <td>0.083333</td>\n",
       "    </tr>\n",
       "  </tbody>\n",
       "</table>\n",
       "</div>"
      ],
      "text/plain": [
       "                                          parameters  split_idx  train_score  \\\n",
       "0  {'tol': 0.1, 'gamma': 4786.30092323, 'C': 16.5...          0     1.000000   \n",
       "1  {'tol': 0.01, 'gamma': 1737800.82875, 'C': 1.1...          0     0.107168   \n",
       "2  {'tol': 0.001, 'gamma': 79432823.4724, 'C': 1....          0     1.000000   \n",
       "3  {'tol': 0.01, 'gamma': 0.00026302679919, 'C': ...          1     1.000000   \n",
       "4  {'tol': 0.0001, 'gamma': 3.16227766017, 'C': 6...          1     1.000000   \n",
       "5  {'tol': 0.01, 'gamma': 1.51356124844e-08, 'C':...          1     0.105776   \n",
       "\n",
       "   training_time  val_score  \n",
       "0       0.398743   0.080556  \n",
       "1       0.398817   0.080556  \n",
       "2       0.457986   0.080556  \n",
       "3       0.066592   0.988889  \n",
       "4       0.493497   0.083333  \n",
       "5       0.473631   0.083333  "
      ]
     },
     "execution_count": 25,
     "metadata": {},
     "output_type": "execute_result"
    }
   ],
   "source": [
    "pd.DataFrame.from_dict(list(results)).drop('parameters_hash', 1)"
   ]
  },
  {
   "cell_type": "markdown",
   "metadata": {},
   "source": [
    "### Scaling out with dask + distributed"
   ]
  },
  {
   "cell_type": "code",
   "execution_count": 26,
   "metadata": {
    "collapsed": false
   },
   "outputs": [],
   "source": [
    "param_space = ParameterSampler(param_grid, n_cores * 10)\n",
    "\n",
    "cv_splits = [delayed(load_cv_split)(i) for i in range(3)]\n",
    "        \n",
    "delayed_evaluations = [delayed(evaluate_one)(SVC, params, split)\n",
    "                       for split in cv_splits\n",
    "                       for params in param_space]"
   ]
  },
  {
   "cell_type": "code",
   "execution_count": 27,
   "metadata": {
    "collapsed": true
   },
   "outputs": [],
   "source": [
    "all_results = e.compute(delayed_evaluations)"
   ]
  },
  {
   "cell_type": "code",
   "execution_count": 28,
   "metadata": {
    "collapsed": false
   },
   "outputs": [],
   "source": [
    "progress(all_results)"
   ]
  },
  {
   "cell_type": "code",
   "execution_count": 30,
   "metadata": {
    "collapsed": false
   },
   "outputs": [
    {
     "data": {
      "text/html": [
       "<div>\n",
       "<table border=\"1\" class=\"dataframe\">\n",
       "  <thead>\n",
       "    <tr style=\"text-align: right;\">\n",
       "      <th></th>\n",
       "      <th>split_idx</th>\n",
       "      <th>train_score</th>\n",
       "      <th>training_time</th>\n",
       "      <th>val_score</th>\n",
       "    </tr>\n",
       "  </thead>\n",
       "  <tbody>\n",
       "    <tr>\n",
       "      <th>count</th>\n",
       "      <td>2880.000000</td>\n",
       "      <td>2880.000000</td>\n",
       "      <td>2880.000000</td>\n",
       "      <td>2880.000000</td>\n",
       "    </tr>\n",
       "    <tr>\n",
       "      <th>mean</th>\n",
       "      <td>1.000000</td>\n",
       "      <td>0.558186</td>\n",
       "      <td>0.599067</td>\n",
       "      <td>0.264886</td>\n",
       "    </tr>\n",
       "    <tr>\n",
       "      <th>std</th>\n",
       "      <td>0.816638</td>\n",
       "      <td>0.443614</td>\n",
       "      <td>0.227794</td>\n",
       "      <td>0.355574</td>\n",
       "    </tr>\n",
       "    <tr>\n",
       "      <th>min</th>\n",
       "      <td>0.000000</td>\n",
       "      <td>0.105776</td>\n",
       "      <td>0.052829</td>\n",
       "      <td>0.077778</td>\n",
       "    </tr>\n",
       "    <tr>\n",
       "      <th>25%</th>\n",
       "      <td>0.000000</td>\n",
       "      <td>0.105776</td>\n",
       "      <td>0.592302</td>\n",
       "      <td>0.077778</td>\n",
       "    </tr>\n",
       "    <tr>\n",
       "      <th>50%</th>\n",
       "      <td>1.000000</td>\n",
       "      <td>0.907794</td>\n",
       "      <td>0.662360</td>\n",
       "      <td>0.080556</td>\n",
       "    </tr>\n",
       "    <tr>\n",
       "      <th>75%</th>\n",
       "      <td>2.000000</td>\n",
       "      <td>1.000000</td>\n",
       "      <td>0.725853</td>\n",
       "      <td>0.083333</td>\n",
       "    </tr>\n",
       "    <tr>\n",
       "      <th>max</th>\n",
       "      <td>2.000000</td>\n",
       "      <td>1.000000</td>\n",
       "      <td>1.308725</td>\n",
       "      <td>0.994444</td>\n",
       "    </tr>\n",
       "  </tbody>\n",
       "</table>\n",
       "</div>"
      ],
      "text/plain": [
       "         split_idx  train_score  training_time    val_score\n",
       "count  2880.000000  2880.000000    2880.000000  2880.000000\n",
       "mean      1.000000     0.558186       0.599067     0.264886\n",
       "std       0.816638     0.443614       0.227794     0.355574\n",
       "min       0.000000     0.105776       0.052829     0.077778\n",
       "25%       0.000000     0.105776       0.592302     0.077778\n",
       "50%       1.000000     0.907794       0.662360     0.080556\n",
       "75%       2.000000     1.000000       0.725853     0.083333\n",
       "max       2.000000     1.000000       1.308725     0.994444"
      ]
     },
     "execution_count": 30,
     "metadata": {},
     "output_type": "execute_result"
    }
   ],
   "source": [
    "results = e.gather([f for f in all_results if f.done()])\n",
    "results = pd.DataFrame.from_dict(results)\n",
    "results.describe()"
   ]
  },
  {
   "cell_type": "code",
   "execution_count": 31,
   "metadata": {
    "collapsed": false
   },
   "outputs": [
    {
     "data": {
      "image/png": "[encoded data removed]",
      "text/plain": [
       "<matplotlib.figure.Figure at 0x7fa6a807e128>"
      ]
     },
     "metadata": {},
     "output_type": "display_data"
    }
   ],
   "source": [
    "plt.figure(figsize=(8, 2))\n",
    "bins = np.linspace(0, 1, 100)\n",
    "results['val_score'].plot(kind='hist', bins=bins);"
   ]
  },
  {
   "cell_type": "code",
   "execution_count": 32,
   "metadata": {
    "collapsed": false
   },
   "outputs": [
    {
     "data": {
      "image/png": "[encoded data removed]",
      "text/plain": [
       "<matplotlib.figure.Figure at 0x7fa61b894160>"
      ]
     },
     "metadata": {},
     "output_type": "display_data"
    }
   ],
   "source": [
    "plt.figure(figsize=(8, 2))\n",
    "results['train_score'].plot.hist(bins=bins);"
   ]
  },
  {
   "cell_type": "code",
   "execution_count": 33,
   "metadata": {
    "collapsed": false
   },
   "outputs": [
    {
     "data": {
      "text/html": [
       "<div>\n",
       "<table border=\"1\" class=\"dataframe\">\n",
       "  <thead>\n",
       "    <tr style=\"text-align: right;\">\n",
       "      <th></th>\n",
       "      <th>parameters_hash</th>\n",
       "      <th>train_score</th>\n",
       "      <th>training_time</th>\n",
       "      <th>val_score</th>\n",
       "    </tr>\n",
       "  </thead>\n",
       "  <tbody>\n",
       "    <tr>\n",
       "      <th>0</th>\n",
       "      <td>000077cc8541f68a5d25cf01f52fcb39</td>\n",
       "      <td>1.000000</td>\n",
       "      <td>0.669638</td>\n",
       "      <td>0.077778</td>\n",
       "    </tr>\n",
       "    <tr>\n",
       "      <th>1</th>\n",
       "      <td>00071a06d07b99409b3225aad510807d</td>\n",
       "      <td>0.991649</td>\n",
       "      <td>0.079654</td>\n",
       "      <td>0.980556</td>\n",
       "    </tr>\n",
       "    <tr>\n",
       "      <th>2</th>\n",
       "      <td>0022f2e9052d1333a409cd996fcab0db</td>\n",
       "      <td>1.000000</td>\n",
       "      <td>0.695457</td>\n",
       "      <td>0.083333</td>\n",
       "    </tr>\n",
       "    <tr>\n",
       "      <th>3</th>\n",
       "      <td>002767880f551e49590a97b67cc5c515</td>\n",
       "      <td>0.105776</td>\n",
       "      <td>0.804121</td>\n",
       "      <td>0.083333</td>\n",
       "    </tr>\n",
       "    <tr>\n",
       "      <th>4</th>\n",
       "      <td>00307b82bde0629ff86b9a1b4050a0c7</td>\n",
       "      <td>0.105776</td>\n",
       "      <td>0.659076</td>\n",
       "      <td>0.083333</td>\n",
       "    </tr>\n",
       "  </tbody>\n",
       "</table>\n",
       "</div>"
      ],
      "text/plain": [
       "                    parameters_hash  train_score  training_time  val_score\n",
       "0  000077cc8541f68a5d25cf01f52fcb39     1.000000       0.669638   0.077778\n",
       "1  00071a06d07b99409b3225aad510807d     0.991649       0.079654   0.980556\n",
       "2  0022f2e9052d1333a409cd996fcab0db     1.000000       0.695457   0.083333\n",
       "3  002767880f551e49590a97b67cc5c515     0.105776       0.804121   0.083333\n",
       "4  00307b82bde0629ff86b9a1b4050a0c7     0.105776       0.659076   0.083333"
      ]
     },
     "execution_count": 33,
     "metadata": {},
     "output_type": "execute_result"
    }
   ],
   "source": [
    "from joblib import hash\n",
    "\n",
    "mean_evaluations = results.groupby('parameters_hash').agg({\n",
    "    'train_score': np.mean,\n",
    "    'val_score': np.mean,\n",
    "    'training_time': np.mean,\n",
    "}).reset_index()\n",
    "\n",
    "mean_evaluations.head(5)"
   ]
  },
  {
   "cell_type": "code",
   "execution_count": 34,
   "metadata": {
    "collapsed": false
   },
   "outputs": [],
   "source": [
    "all_parameters = pd.DataFrame.from_dict(list(results['parameters']))\n",
    "all_parameters['parameters_hash'] = results['parameters_hash']\n",
    "\n",
    "evaluations = (\n",
    "    mean_evaluations\n",
    "    .merge(all_parameters)\n",
    "    .drop(['parameters_hash'], axis=1)\n",
    ")"
   ]
  },
  {
   "cell_type": "code",
   "execution_count": 35,
   "metadata": {
    "collapsed": false
   },
   "outputs": [
    {
     "data": {
      "text/html": [
       "<div>\n",
       "<table border=\"1\" class=\"dataframe\">\n",
       "  <thead>\n",
       "    <tr style=\"text-align: right;\">\n",
       "      <th></th>\n",
       "      <th>train_score</th>\n",
       "      <th>training_time</th>\n",
       "      <th>val_score</th>\n",
       "      <th>C</th>\n",
       "      <th>gamma</th>\n",
       "      <th>tol</th>\n",
       "    </tr>\n",
       "  </thead>\n",
       "  <tbody>\n",
       "    <tr>\n",
       "      <th>2284</th>\n",
       "      <td>1.000000</td>\n",
       "      <td>0.257936</td>\n",
       "      <td>0.994444</td>\n",
       "      <td>2.754229e+09</td>\n",
       "      <td>1.513561e-03</td>\n",
       "      <td>0.1000</td>\n",
       "    </tr>\n",
       "    <tr>\n",
       "      <th>2448</th>\n",
       "      <td>1.000000</td>\n",
       "      <td>0.312985</td>\n",
       "      <td>0.994444</td>\n",
       "      <td>1.819701e+05</td>\n",
       "      <td>1.737801e-03</td>\n",
       "      <td>0.0100</td>\n",
       "    </tr>\n",
       "    <tr>\n",
       "      <th>883</th>\n",
       "      <td>1.000000</td>\n",
       "      <td>0.324233</td>\n",
       "      <td>0.994444</td>\n",
       "      <td>1.148154e+05</td>\n",
       "      <td>1.513561e-03</td>\n",
       "      <td>0.0100</td>\n",
       "    </tr>\n",
       "    <tr>\n",
       "      <th>2760</th>\n",
       "      <td>1.000000</td>\n",
       "      <td>0.234743</td>\n",
       "      <td>0.994444</td>\n",
       "      <td>3.311311e+06</td>\n",
       "      <td>1.737801e-03</td>\n",
       "      <td>0.1000</td>\n",
       "    </tr>\n",
       "    <tr>\n",
       "      <th>2024</th>\n",
       "      <td>1.000000</td>\n",
       "      <td>0.285540</td>\n",
       "      <td>0.994444</td>\n",
       "      <td>1.000000e+08</td>\n",
       "      <td>1.513561e-03</td>\n",
       "      <td>0.0001</td>\n",
       "    </tr>\n",
       "    <tr>\n",
       "      <th>1565</th>\n",
       "      <td>1.000000</td>\n",
       "      <td>0.123913</td>\n",
       "      <td>0.991667</td>\n",
       "      <td>8.317638e+08</td>\n",
       "      <td>2.884032e-07</td>\n",
       "      <td>0.0001</td>\n",
       "    </tr>\n",
       "    <tr>\n",
       "      <th>2216</th>\n",
       "      <td>0.988866</td>\n",
       "      <td>0.137661</td>\n",
       "      <td>0.991667</td>\n",
       "      <td>6.309573e+05</td>\n",
       "      <td>9.549926e-10</td>\n",
       "      <td>0.0010</td>\n",
       "    </tr>\n",
       "    <tr>\n",
       "      <th>2567</th>\n",
       "      <td>1.000000</td>\n",
       "      <td>0.097795</td>\n",
       "      <td>0.991667</td>\n",
       "      <td>1.445440e+06</td>\n",
       "      <td>5.495409e-07</td>\n",
       "      <td>0.0010</td>\n",
       "    </tr>\n",
       "    <tr>\n",
       "      <th>2220</th>\n",
       "      <td>0.995129</td>\n",
       "      <td>0.085136</td>\n",
       "      <td>0.991667</td>\n",
       "      <td>3.630781e+00</td>\n",
       "      <td>1.584893e-04</td>\n",
       "      <td>0.1000</td>\n",
       "    </tr>\n",
       "    <tr>\n",
       "      <th>2119</th>\n",
       "      <td>1.000000</td>\n",
       "      <td>0.121541</td>\n",
       "      <td>0.991667</td>\n",
       "      <td>4.786301e+09</td>\n",
       "      <td>5.248075e-06</td>\n",
       "      <td>0.0100</td>\n",
       "    </tr>\n",
       "  </tbody>\n",
       "</table>\n",
       "</div>"
      ],
      "text/plain": [
       "      train_score  training_time  val_score             C         gamma  \\\n",
       "2284     1.000000       0.257936   0.994444  2.754229e+09  1.513561e-03   \n",
       "2448     1.000000       0.312985   0.994444  1.819701e+05  1.737801e-03   \n",
       "883      1.000000       0.324233   0.994444  1.148154e+05  1.513561e-03   \n",
       "2760     1.000000       0.234743   0.994444  3.311311e+06  1.737801e-03   \n",
       "2024     1.000000       0.285540   0.994444  1.000000e+08  1.513561e-03   \n",
       "1565     1.000000       0.123913   0.991667  8.317638e+08  2.884032e-07   \n",
       "2216     0.988866       0.137661   0.991667  6.309573e+05  9.549926e-10   \n",
       "2567     1.000000       0.097795   0.991667  1.445440e+06  5.495409e-07   \n",
       "2220     0.995129       0.085136   0.991667  3.630781e+00  1.584893e-04   \n",
       "2119     1.000000       0.121541   0.991667  4.786301e+09  5.248075e-06   \n",
       "\n",
       "         tol  \n",
       "2284  0.1000  \n",
       "2448  0.0100  \n",
       "883   0.0100  \n",
       "2760  0.1000  \n",
       "2024  0.0001  \n",
       "1565  0.0001  \n",
       "2216  0.0010  \n",
       "2567  0.0010  \n",
       "2220  0.1000  \n",
       "2119  0.0100  "
      ]
     },
     "execution_count": 35,
     "metadata": {},
     "output_type": "execute_result"
    }
   ],
   "source": [
    "top10 = evaluations.sort_values(\n",
    "    by='val_score', ascending=False).head(10)\n",
    "top10"
   ]
  },
  {
   "cell_type": "code",
   "execution_count": 36,
   "metadata": {
    "collapsed": false
   },
   "outputs": [
    {
     "data": {
      "image/png": "[encoded data removed]",
      "text/plain": [
       "<matplotlib.figure.Figure at 0x7fa61b47a908>"
      ]
     },
     "metadata": {},
     "output_type": "display_data"
    }
   ],
   "source": [
    "import matplotlib.pyplot as plt\n",
    "\n",
    "def plot_param_map(df, target, title):\n",
    "    plt.xlabel('log10(C)')\n",
    "    plt.ylabel('log10(gamma)')\n",
    "    plt.xlim(-10, 10)\n",
    "    plt.ylim(-10, 10)\n",
    "    plt.scatter(np.log10(df['C']), np.log10(df['gamma']),\n",
    "                c=target,\n",
    "                marker='s', edgecolors='none',\n",
    "                s=80, alpha=1, cmap='viridis')\n",
    "    plt.colorbar()\n",
    "    plt.title(title)\n",
    "\n",
    "plt.figure(figsize=(6, 5))\n",
    "plot_param_map(evaluations, evaluations['val_score'],\n",
    "               'validation score')\n",
    "plt.scatter(np.log10(top10['C']), np.log10(top10['gamma']),\n",
    "            c='r', s=50);"
   ]
  },
  {
   "cell_type": "code",
   "execution_count": 37,
   "metadata": {
    "collapsed": false
   },
   "outputs": [
    {
     "data": {
      "image/png": "[encoded data removed]",
      "text/plain": [
       "<matplotlib.figure.Figure at 0x7fa61b46b8d0>"
      ]
     },
     "metadata": {},
     "output_type": "display_data"
    }
   ],
   "source": [
    "plt.figure(figsize=(6, 5))\n",
    "plot_param_map(evaluations, evaluations['train_score'], 'train score')"
   ]
  },
  {
   "cell_type": "code",
   "execution_count": 38,
   "metadata": {
    "collapsed": false
   },
   "outputs": [
    {
     "data": {
      "image/png": "[encoded data removed]",
      "text/plain": [
       "<matplotlib.figure.Figure at 0x7fa61b1c0828>"
      ]
     },
     "metadata": {},
     "output_type": "display_data"
    }
   ],
   "source": [
    "plt.figure(figsize=(6, 5))\n",
    "gap = evaluations['train_score'] - evaluations['val_score']\n",
    "plot_param_map(evaluations, gap, 'gap')"
   ]
  },
  {
   "cell_type": "code",
   "execution_count": 39,
   "metadata": {
    "collapsed": false
   },
   "outputs": [
    {
     "data": {
      "image/png": "[encoded data removed]",
      "text/plain": [
       "<matplotlib.figure.Figure at 0x7fa61b1675f8>"
      ]
     },
     "metadata": {},
     "output_type": "display_data"
    }
   ],
   "source": [
    "plt.figure(figsize=(6, 5))\n",
    "high_tol = evaluations[evaluations['tol'] == 0.1]\n",
    "\n",
    "plot_param_map(high_tol, high_tol['training_time'], 'training time (s)')\n",
    "plt.scatter(np.log10(top10['C']), np.log10(top10['gamma']),\n",
    "            c='r', s=50);"
   ]
  },
  {
   "cell_type": "markdown",
   "metadata": {},
   "source": [
    "## Scaling down"
   ]
  },
  {
   "cell_type": "markdown",
   "metadata": {},
   "source": [
    "### Distributed cluster"
   ]
  },
  {
   "cell_type": "code",
   "execution_count": 40,
   "metadata": {
    "collapsed": false
   },
   "outputs": [
    {
     "name": "stdout",
     "output_type": "stream",
     "text": [
      "CPU times: user 24 ms, sys: 0 ns, total: 24 ms\n",
      "Wall time: 1.2 s\n"
     ]
    }
   ],
   "source": [
    "import dask\n",
    "\n",
    "%time _ = dask.compute(*delayed_evaluations[:10], get=e.get)"
   ]
  },
  {
   "cell_type": "markdown",
   "metadata": {},
   "source": [
    "### Single host, local python process, multiple threads"
   ]
  },
  {
   "cell_type": "code",
   "execution_count": 41,
   "metadata": {
    "collapsed": false
   },
   "outputs": [
    {
     "name": "stdout",
     "output_type": "stream",
     "text": [
      "CPU times: user 7.28 s, sys: 68 ms, total: 7.34 s\n",
      "Wall time: 949 ms\n"
     ]
    }
   ],
   "source": [
    "%time _ = dask.compute(*delayed_evaluations[:10])"
   ]
  },
  {
   "cell_type": "markdown",
   "metadata": {},
   "source": [
    "### Single host, local python process, no parallelism"
   ]
  },
  {
   "cell_type": "code",
   "execution_count": 42,
   "metadata": {
    "collapsed": false
   },
   "outputs": [
    {
     "name": "stdout",
     "output_type": "stream",
     "text": [
      "CPU times: user 7.2 s, sys: 4 ms, total: 7.21 s\n",
      "Wall time: 7.18 s\n"
     ]
    }
   ],
   "source": [
    "from dask.async import get_sync\n",
    "\n",
    "%time _ = dask.compute(*delayed_evaluations[:10], get=get_sync)"
   ]
  },
  {
   "cell_type": "code",
   "execution_count": 43,
   "metadata": {
    "collapsed": false
   },
   "outputs": [
    {
     "name": "stdout",
     "output_type": "stream",
     "text": [
      " "
     ]
    }
   ],
   "source": [
    "%prun _ = dask.compute(*delayed_evaluations[:10], get=get_sync)"
   ]
  },
  {
   "cell_type": "code",
   "execution_count": null,
   "metadata": {
    "collapsed": true
   },
   "outputs": [],
   "source": []
  }
 ],
 "metadata": {
  "kernelspec": {
   "display_name": "Python 3",
   "language": "python",
   "name": "python3"
  },
  "language_info": {
   "codemirror_mode": {
    "name": "ipython",
    "version": 3
   },
   "file_extension": ".py",
   "mimetype": "text/x-python",
   "name": "python",
   "nbconvert_exporter": "python",
   "pygments_lexer": "ipython3",
   "version": "3.5.1"
  }
 },
 "nbformat": 4,
 "nbformat_minor": 0
}
